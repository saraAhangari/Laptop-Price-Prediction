{
  "nbformat": 4,
  "nbformat_minor": 0,
  "metadata": {
    "colab": {
      "provenance": []
    },
    "kernelspec": {
      "name": "python3",
      "display_name": "Python 3"
    },
    "language_info": {
      "name": "python"
    }
  },
  "cells": [
    {
      "cell_type": "markdown",
      "source": [
        "# **Laptop Price Prediction**"
      ],
      "metadata": {
        "id": "5x85BiUXH2t-"
      }
    },
    {
      "cell_type": "markdown",
      "source": [
        "This is the final project for Machine Learning course at Shahid Beheshti University.\n",
        "\n",
        "We collected data from Torob.ir using a web crawler tool called Selenium. Then we preprocessed the data using feature engineering techniques. In the following, you will see the description of each section."
      ],
      "metadata": {
        "id": "q_O5s4fxIF6S"
      }
    },
    {
      "cell_type": "code",
      "execution_count": 1,
      "metadata": {
        "id": "_5aM8jP7IreA"
      },
      "outputs": [],
      "source": [
        "import numpy as np\n",
        "import pandas as pd\n",
        "import matplotlib.pyplot as plt\n",
        "import seaborn as sns\n",
        "import re\n",
        "import warnings\n",
        "warnings.filterwarnings('ignore')"
      ]
    },
    {
      "cell_type": "code",
      "source": [
        "from google.colab import drive\n",
        "drive.mount('/content/drive')"
      ],
      "metadata": {
        "id": "hHAad5U6IyMg",
        "colab": {
          "base_uri": "https://localhost:8080/"
        },
        "outputId": "410fd522-6a19-481f-d593-96080fc428d5"
      },
      "execution_count": 2,
      "outputs": [
        {
          "output_type": "stream",
          "name": "stdout",
          "text": [
            "Mounted at /content/drive\n"
          ]
        }
      ]
    },
    {
      "cell_type": "code",
      "source": [
        "#load dataset\n",
        "df = pd.read_csv('drive/MyDrive/ML/data.csv', dtype=object)\n",
        "fm = pd.read_csv('drive/MyDrive/ML/feature-mappings.csv' )\n",
        "fm.drop(['not-null-count', 'example-1', 'example-2', 'example-3'], axis=1, inplace=True)\n",
        "fm.loc[(fm['mapped-name'].isna() == False) & fm['mapped-name'].str.contains('usb'), 'how-to-extract-value'] = 'bool-number'"
      ],
      "metadata": {
        "id": "xMsZnf03I0ED"
      },
      "execution_count": 3,
      "outputs": []
    },
    {
      "cell_type": "code",
      "source": [
        "fm"
      ],
      "metadata": {
        "id": "pXmnHMvcb8kW",
        "colab": {
          "base_uri": "https://localhost:8080/",
          "height": 423
        },
        "outputId": "64831e6f-0527-4b8f-b20d-4c0fdf54b6ce"
      },
      "execution_count": 4,
      "outputs": [
        {
          "output_type": "execute_result",
          "data": {
            "text/plain": [
              "                        feature-name          mapped-name how-to-extract-value\n",
              "0                  clean-graphic_ram  clean-gpu-memory-gb               number\n",
              "1                          clean-ram         clean-ram-gb               number\n",
              "2                          clean-cpu      clean-cpu-model          categorical\n",
              "3                          clean-hdd         clean-hdd-gb          unit-number\n",
              "4                  clean-screen_size   clean-display-size               number\n",
              "...                              ...                  ...                  ...\n",
              "1667       پردازنده مرکزی.تعداد هسته            cpu-cores               number\n",
              "1668                     باتری.ظرفیت           battery-wh               number\n",
              "1669  صفحه نمایش. رزولوشن صفحه نمایش          display-res           max-number\n",
              "1670                    موارد کاربری                usage          categorical\n",
              "1671             حافظه.حافظه RAM نوع             ram-type          categorical\n",
              "\n",
              "[1672 rows x 3 columns]"
            ],
            "text/html": [
              "\n",
              "  <div id=\"df-90b3a5cc-3043-4525-b21f-b7c1deb242d7\">\n",
              "    <div class=\"colab-df-container\">\n",
              "      <div>\n",
              "<style scoped>\n",
              "    .dataframe tbody tr th:only-of-type {\n",
              "        vertical-align: middle;\n",
              "    }\n",
              "\n",
              "    .dataframe tbody tr th {\n",
              "        vertical-align: top;\n",
              "    }\n",
              "\n",
              "    .dataframe thead th {\n",
              "        text-align: right;\n",
              "    }\n",
              "</style>\n",
              "<table border=\"1\" class=\"dataframe\">\n",
              "  <thead>\n",
              "    <tr style=\"text-align: right;\">\n",
              "      <th></th>\n",
              "      <th>feature-name</th>\n",
              "      <th>mapped-name</th>\n",
              "      <th>how-to-extract-value</th>\n",
              "    </tr>\n",
              "  </thead>\n",
              "  <tbody>\n",
              "    <tr>\n",
              "      <th>0</th>\n",
              "      <td>clean-graphic_ram</td>\n",
              "      <td>clean-gpu-memory-gb</td>\n",
              "      <td>number</td>\n",
              "    </tr>\n",
              "    <tr>\n",
              "      <th>1</th>\n",
              "      <td>clean-ram</td>\n",
              "      <td>clean-ram-gb</td>\n",
              "      <td>number</td>\n",
              "    </tr>\n",
              "    <tr>\n",
              "      <th>2</th>\n",
              "      <td>clean-cpu</td>\n",
              "      <td>clean-cpu-model</td>\n",
              "      <td>categorical</td>\n",
              "    </tr>\n",
              "    <tr>\n",
              "      <th>3</th>\n",
              "      <td>clean-hdd</td>\n",
              "      <td>clean-hdd-gb</td>\n",
              "      <td>unit-number</td>\n",
              "    </tr>\n",
              "    <tr>\n",
              "      <th>4</th>\n",
              "      <td>clean-screen_size</td>\n",
              "      <td>clean-display-size</td>\n",
              "      <td>number</td>\n",
              "    </tr>\n",
              "    <tr>\n",
              "      <th>...</th>\n",
              "      <td>...</td>\n",
              "      <td>...</td>\n",
              "      <td>...</td>\n",
              "    </tr>\n",
              "    <tr>\n",
              "      <th>1667</th>\n",
              "      <td>پردازنده مرکزی.تعداد هسته</td>\n",
              "      <td>cpu-cores</td>\n",
              "      <td>number</td>\n",
              "    </tr>\n",
              "    <tr>\n",
              "      <th>1668</th>\n",
              "      <td>باتری.ظرفیت</td>\n",
              "      <td>battery-wh</td>\n",
              "      <td>number</td>\n",
              "    </tr>\n",
              "    <tr>\n",
              "      <th>1669</th>\n",
              "      <td>صفحه نمایش. رزولوشن صفحه نمایش</td>\n",
              "      <td>display-res</td>\n",
              "      <td>max-number</td>\n",
              "    </tr>\n",
              "    <tr>\n",
              "      <th>1670</th>\n",
              "      <td>موارد کاربری</td>\n",
              "      <td>usage</td>\n",
              "      <td>categorical</td>\n",
              "    </tr>\n",
              "    <tr>\n",
              "      <th>1671</th>\n",
              "      <td>حافظه.حافظه RAM نوع</td>\n",
              "      <td>ram-type</td>\n",
              "      <td>categorical</td>\n",
              "    </tr>\n",
              "  </tbody>\n",
              "</table>\n",
              "<p>1672 rows × 3 columns</p>\n",
              "</div>\n",
              "      <button class=\"colab-df-convert\" onclick=\"convertToInteractive('df-90b3a5cc-3043-4525-b21f-b7c1deb242d7')\"\n",
              "              title=\"Convert this dataframe to an interactive table.\"\n",
              "              style=\"display:none;\">\n",
              "        \n",
              "  <svg xmlns=\"http://www.w3.org/2000/svg\" height=\"24px\"viewBox=\"0 0 24 24\"\n",
              "       width=\"24px\">\n",
              "    <path d=\"M0 0h24v24H0V0z\" fill=\"none\"/>\n",
              "    <path d=\"M18.56 5.44l.94 2.06.94-2.06 2.06-.94-2.06-.94-.94-2.06-.94 2.06-2.06.94zm-11 1L8.5 8.5l.94-2.06 2.06-.94-2.06-.94L8.5 2.5l-.94 2.06-2.06.94zm10 10l.94 2.06.94-2.06 2.06-.94-2.06-.94-.94-2.06-.94 2.06-2.06.94z\"/><path d=\"M17.41 7.96l-1.37-1.37c-.4-.4-.92-.59-1.43-.59-.52 0-1.04.2-1.43.59L10.3 9.45l-7.72 7.72c-.78.78-.78 2.05 0 2.83L4 21.41c.39.39.9.59 1.41.59.51 0 1.02-.2 1.41-.59l7.78-7.78 2.81-2.81c.8-.78.8-2.07 0-2.86zM5.41 20L4 18.59l7.72-7.72 1.47 1.35L5.41 20z\"/>\n",
              "  </svg>\n",
              "      </button>\n",
              "      \n",
              "  <style>\n",
              "    .colab-df-container {\n",
              "      display:flex;\n",
              "      flex-wrap:wrap;\n",
              "      gap: 12px;\n",
              "    }\n",
              "\n",
              "    .colab-df-convert {\n",
              "      background-color: #E8F0FE;\n",
              "      border: none;\n",
              "      border-radius: 50%;\n",
              "      cursor: pointer;\n",
              "      display: none;\n",
              "      fill: #1967D2;\n",
              "      height: 32px;\n",
              "      padding: 0 0 0 0;\n",
              "      width: 32px;\n",
              "    }\n",
              "\n",
              "    .colab-df-convert:hover {\n",
              "      background-color: #E2EBFA;\n",
              "      box-shadow: 0px 1px 2px rgba(60, 64, 67, 0.3), 0px 1px 3px 1px rgba(60, 64, 67, 0.15);\n",
              "      fill: #174EA6;\n",
              "    }\n",
              "\n",
              "    [theme=dark] .colab-df-convert {\n",
              "      background-color: #3B4455;\n",
              "      fill: #D2E3FC;\n",
              "    }\n",
              "\n",
              "    [theme=dark] .colab-df-convert:hover {\n",
              "      background-color: #434B5C;\n",
              "      box-shadow: 0px 1px 3px 1px rgba(0, 0, 0, 0.15);\n",
              "      filter: drop-shadow(0px 1px 2px rgba(0, 0, 0, 0.3));\n",
              "      fill: #FFFFFF;\n",
              "    }\n",
              "  </style>\n",
              "\n",
              "      <script>\n",
              "        const buttonEl =\n",
              "          document.querySelector('#df-90b3a5cc-3043-4525-b21f-b7c1deb242d7 button.colab-df-convert');\n",
              "        buttonEl.style.display =\n",
              "          google.colab.kernel.accessAllowed ? 'block' : 'none';\n",
              "\n",
              "        async function convertToInteractive(key) {\n",
              "          const element = document.querySelector('#df-90b3a5cc-3043-4525-b21f-b7c1deb242d7');\n",
              "          const dataTable =\n",
              "            await google.colab.kernel.invokeFunction('convertToInteractive',\n",
              "                                                     [key], {});\n",
              "          if (!dataTable) return;\n",
              "\n",
              "          const docLinkHtml = 'Like what you see? Visit the ' +\n",
              "            '<a target=\"_blank\" href=https://colab.research.google.com/notebooks/data_table.ipynb>data table notebook</a>'\n",
              "            + ' to learn more about interactive tables.';\n",
              "          element.innerHTML = '';\n",
              "          dataTable['output_type'] = 'display_data';\n",
              "          await google.colab.output.renderOutput(dataTable, element);\n",
              "          const docLink = document.createElement('div');\n",
              "          docLink.innerHTML = docLinkHtml;\n",
              "          element.appendChild(docLink);\n",
              "        }\n",
              "      </script>\n",
              "    </div>\n",
              "  </div>\n",
              "  "
            ]
          },
          "metadata": {},
          "execution_count": 4
        }
      ]
    },
    {
      "cell_type": "code",
      "source": [
        "# Create the first dictionary with unique 'feature-name' values for each 'mapped-name'\n",
        "mapped_features = fm.groupby('mapped-name')['feature-name'].unique().apply(list).to_dict()\n",
        "\n",
        "# Create the second dictionary with unique 'how-to-extract-value' values for each 'mapped-name'\n",
        "mapped_methods = fm.groupby('mapped-name')['how-to-extract-value'].unique().apply(list).to_dict()"
      ],
      "metadata": {
        "id": "J2SfObA6cSGe"
      },
      "execution_count": 5,
      "outputs": []
    },
    {
      "cell_type": "code",
      "source": [
        "def transform_number(column_value, mode='first'):\n",
        "    if pd.isna(column_value): return pd.NA\n",
        "\n",
        "    # Replace Persian digit characters with their ASCII equivalent\n",
        "    persian_digits = {'۰': '0', '۱': '1', '۲': '2', '۳': '3', '۴': '4',\n",
        "                      '۵': '5', '۶': '6', '۷': '7', '۸': '8', '۹': '9'}\n",
        "\n",
        "    for persian, ascii_digit in persian_digits.items():\n",
        "        column_value = column_value.replace(persian, ascii_digit)\n",
        "\n",
        "    # Remove any character that is not a digit, whitespace, or period\n",
        "    cleaned_value = re.sub(r'[^\\d\\s.]', '', column_value)\n",
        "\n",
        "    # Parse the remaining number tokens\n",
        "    number_tokens = re.findall(r'\\d+(?:\\.\\d+)?', cleaned_value)\n",
        "\n",
        "    if len(number_tokens) > 0:\n",
        "        # Convert number tokens to float\n",
        "        numbers = [float(token) for token in number_tokens]\n",
        "\n",
        "        if mode == 'min':\n",
        "            return min(numbers)\n",
        "        elif mode == 'max':\n",
        "            return max(numbers)\n",
        "        elif mode == 'first':\n",
        "            return numbers[0]\n",
        "        elif mode == 'int':\n",
        "          for n in numbers:\n",
        "            if n.is_integer():\n",
        "              return n\n",
        "            return numbers[0]\n",
        "        else:\n",
        "            raise ValueError(\"Invalid mode. Available modes are 'min', 'max', or 'first'.\")\n",
        "    else:\n",
        "        return None"
      ],
      "metadata": {
        "id": "ZfR2YvIAgucr"
      },
      "execution_count": 6,
      "outputs": []
    },
    {
      "cell_type": "code",
      "source": [
        "def transform_to_zero_one(value, zero_keywords=[]):\n",
        "    zero_keywords += ['نه', 'خیر', 'ندارد', 'خير', '❌', 'no', 'نمی', 'نمي']\n",
        "\n",
        "    if pd.isna(value):\n",
        "      return pd.NA\n",
        "\n",
        "    try:\n",
        "        if float(value) == 0.0:\n",
        "          return 0\n",
        "    except ValueError:\n",
        "      pass\n",
        "\n",
        "    # Check if any zero keyword is present in the value\n",
        "    if any(keyword in value for keyword in zero_keywords):\n",
        "        return 0\n",
        "    else:\n",
        "        return 1"
      ],
      "metadata": {
        "id": "LOg6cNF_j10c"
      },
      "execution_count": 7,
      "outputs": []
    },
    {
      "cell_type": "code",
      "source": [
        "def transform_unit(value, coeff=1e0):\n",
        "  if pd.isna(value): return pd.NA\n",
        "\n",
        "  giga = ['gb', 'گیگا', 'گيگا']\n",
        "  mega = ['mb', 'مگا']\n",
        "  tera = ['tb', 'ترا']\n",
        "\n",
        "  n = transform_number(value)\n",
        "  if n is None:\n",
        "    return None\n",
        "\n",
        "  if any(part in value for part in giga):\n",
        "    coeff = 1e9 / coeff\n",
        "  elif any(part in value for part in mega):\n",
        "    coeff = 1e6 / coeff\n",
        "  elif any(part in value for part in tera):\n",
        "    coeff = 1e12 / coeff\n",
        "\n",
        "  return n * coeff"
      ],
      "metadata": {
        "id": "Laa3xVxlnkTq"
      },
      "execution_count": 8,
      "outputs": []
    },
    {
      "cell_type": "code",
      "source": [
        "def transform_categorical(value, categories):\n",
        "  if pd.isna(value): return pd.NA\n",
        "\n",
        "  for category in categories:\n",
        "    if any(c in value.strip().lower() for c in category):\n",
        "      return category[0]\n",
        "  return pd.NA"
      ],
      "metadata": {
        "id": "BbBiURTBr5RA"
      },
      "execution_count": 9,
      "outputs": []
    },
    {
      "cell_type": "code",
      "source": [
        "def transform_weight(value):\n",
        "  if pd.isna(value): return pd.NA\n",
        "\n",
        "  kilo = ['kg', 'کیلو', 'کيلو']\n",
        "  geram = ['گرم']\n",
        "\n",
        "  n = transform_number(value)\n",
        "\n",
        "  if any(part in value for part in geram) and not any(part in value for part in kilo):\n",
        "    return n / 1000\n",
        "  return n"
      ],
      "metadata": {
        "id": "R2hwkNAFsWBA"
      },
      "execution_count": 10,
      "outputs": []
    },
    {
      "cell_type": "code",
      "source": [
        "def transform_bool_number(value):\n",
        "  n = transform_number(value, mode='int')\n",
        "  if pd.isna(n) or not bool(n):\n",
        "    n = transform_to_zero_one(value)\n",
        "  return n"
      ],
      "metadata": {
        "id": "anMEPUu2te59"
      },
      "execution_count": 11,
      "outputs": []
    },
    {
      "cell_type": "code",
      "source": [
        "fm['how-to-extract-value'].dropna().unique()"
      ],
      "metadata": {
        "colab": {
          "base_uri": "https://localhost:8080/"
        },
        "id": "yskhV-fpwEYu",
        "outputId": "9ece9faf-3d4d-4b6b-9365-74ffaa4181b9"
      },
      "execution_count": 12,
      "outputs": [
        {
          "output_type": "execute_result",
          "data": {
            "text/plain": [
              "array(['number', 'categorical', 'unit-number', 'max-number', 'boolean',\n",
              "       'manual', 'min-number', 'bool-number', 'weight-number'],\n",
              "      dtype=object)"
            ]
          },
          "metadata": {},
          "execution_count": 12
        }
      ]
    },
    {
      "cell_type": "code",
      "source": [
        "# transform columns\n",
        "index = 0\n",
        "for c in df.columns:\n",
        "  index += 1\n",
        "  original_c = c\n",
        "  if len(fm[fm['feature-name'] == c]['how-to-extract-value']) == 0:\n",
        "    c = c.strip()\n",
        "    if len(fm[fm['feature-name'] == c]['how-to-extract-value']) == 0:\n",
        "      print(f'fatal: unknown feature {c}')\n",
        "\n",
        "  method = fm[fm['feature-name'] == c]['how-to-extract-value'].iloc[0]\n",
        "  m_name = fm[fm['feature-name'] == c]['mapped-name'].iloc[0]\n",
        "\n",
        "  c = original_c\n",
        "  if index % 25 == 0:\n",
        "    print(str(index).rjust(4, '0'), '----- processing: ', c, method, m_name)\n",
        "  if method == 'number':\n",
        "    df[c] = df[c].apply(transform_number)\n",
        "  elif method == 'min-number':\n",
        "    df[c] = df[c].apply(transform_number, args=('min',))\n",
        "  elif method == 'max-number':\n",
        "    df[c] = df[c].apply(transform_number, args=('max',))\n",
        "  elif method == 'unit-number':\n",
        "    if m_name.endswith('-gb'):\n",
        "      df[c] = df[c].apply(transform_unit, args=(1e9,))\n",
        "    elif m_name.endswith('-mb') or m_name.endswith('-mhz'):\n",
        "      df[c] = df[c].apply(transform_unit, args=(1e6,))\n",
        "    elif m_name.endswith('-tb'):\n",
        "      df[c] = df[c].apply(transform_unit, args=(1e12,))\n",
        "    else:\n",
        "      raise ValueError(f'unknown mapped_name {m_name} uses unit-number')\n",
        "  elif method == 'weight-number':\n",
        "      df[c] = df[c].apply(transform_weight)\n",
        "  elif method == 'bool-number':\n",
        "      df[c] = df[c].apply(transform_bool_number)\n",
        "  elif method == 'boolean':\n",
        "      df[c] = df[c].apply(transform_to_zero_one)\n",
        "  elif method == 'categorical':\n",
        "    pass\n",
        "  else:\n",
        "    df.drop([c], axis=1, inplace=True)\n",
        "\n",
        "df"
      ],
      "metadata": {
        "colab": {
          "base_uri": "https://localhost:8080/",
          "height": 1000
        },
        "id": "OqhDuAuMuLHZ",
        "outputId": "883c17b4-339b-4fa9-e827-2a0f919f156b"
      },
      "execution_count": 13,
      "outputs": [
        {
          "output_type": "stream",
          "name": "stdout",
          "text": [
            "0025 ----- processing:  مشخصات ویژه برای اتصالات nan nan\n",
            "0050 ----- processing:  هسته پردازشی min-number cpu-cores\n",
            "0075 ----- processing:  Mini HDMI boolean hdmi-has\n",
            "0100 ----- processing:  تعداد درگاه USB 2.0 Type A bool-number usb2\n",
            "0125 ----- processing:  نوع باتري nan nan\n",
            "0150 ----- processing:  کشور سازنده categorical country\n",
            "0175 ----- processing:  سایر نرم افزارها nan nan\n",
            "0200 ----- processing:  جک میکروفون boolean jack-has\n",
            "0225 ----- processing:  امکانات.حسگر اثر انگشت boolean has-security-id\n",
            "0250 ----- processing:  ظرفیت-هارد unit-number storage-hdd-gb\n",
            "0275 ----- processing:  مقدار حافظه گرافیکی number gpu-memory-gb\n",
            "0300 ----- processing:  پشتیبانی از سیم‌کارت nan nan\n",
            "0325 ----- processing:  امکانات.بلوتوث boolean bluetooth\n",
            "0350 ----- processing:  Processor Type categorical cpu-model\n",
            "0375 ----- processing:  پردازنده مرکزی.فرکانس پردازنده nan nan\n",
            "0400 ----- processing:  فرکانس پردازنده گرافیکی number gpu-freq-mhz\n",
            "0425 ----- processing:  RAM Reader boolean sd-card-has-port\n",
            "0450 ----- processing:  پورت USB 3 bool-number usb3\n",
            "0475 ----- processing:  کیفیت تصویر max-number display-res\n",
            "0500 ----- processing:  ابعاد (میلی متر) max-number size-mm\n",
            "0525 ----- processing:  مشخصات باتری number battery-wh\n",
            "0550 ----- processing:  روشنایی صفحه نمایش nan nan\n",
            "0575 ----- processing:  وسایل همراه nan nan\n",
            "0600 ----- processing:  مشخصات سیم کارت nan nan\n",
            "0625 ----- processing:  توان مصرفی گرافیک max-number gpu-watt\n",
            "0650 ----- processing:  پورت USB-c bool-number usbc\n",
            "0675 ----- processing:  رم انبرد nan nan\n",
            "0700 ----- processing:  باتری قابل تعویض nan nan\n",
            "0725 ----- processing:  سایر ویژگی ها nan nan\n",
            "0750 ----- processing:  ظرفیت هارد دیسک  unit-number storage-ssd-gb\n",
            "0775 ----- processing:  نوع رم گرافیک categorical gpu-memory-type\n",
            "0800 ----- processing:  مشخصات پردازنده مرکزی manual many\n",
            "0825 ----- processing:  اتصالات بی سیم boolean bluetooth\n",
            "0850 ----- processing:  Screen Resolution max-number display-res\n",
            "0875 ----- processing:  نوع کاربری categorical usage\n",
            "0900 ----- processing:  میکروفون boolean jack-has\n",
            "0925 ----- processing:  سازنده پردازنده مرکزی categorical cpu-brand\n",
            "0950 ----- processing:  شبکه بی سیم wi-fi boolean has-wifi\n",
            "0975 ----- processing:  میزان حدودی شارژدهی باطری max-number battery-life\n",
            "1000 ----- processing:  حافظه ذخیره سازی SSD unit-number storage-ssd-gb\n",
            "1025 ----- processing:  Voltage nan nan\n",
            "1050 ----- processing:  دقت صفحه نمايش max-number display-res\n",
            "1075 ----- processing:  پورت FireWire 800 nan nan\n",
            "1100 ----- processing:  کیبورد فارسی nan nan\n",
            "1125 ----- processing:  USB2.0 bool-number usb2\n",
            "1150 ----- processing:  پردازنده گرافيکي.مدل پردازنده گرافيکي manual many\n",
            "1175 ----- processing:  نسل Intel nan nan\n",
            "1200 ----- processing:  جک 3.5mm boolean jack-has\n",
            "1225 ----- processing:  درگاه USB 2.0 bool-number usb2\n",
            "1250 ----- processing:  هسته مجازی number cpu-threads\n",
            "1275 ----- processing:  گواهی مصرف انرژی nan nan\n",
            "1300 ----- processing:  حافظه کش (L3) max-number cpu-cache-mb\n",
            "1325 ----- processing:  حداکثر فرکانس max-number frequency-ghz\n",
            "1350 ----- processing:  تعداد-هسته number cpu-cores\n",
            "1375 ----- processing:  توان R.M.S nan nan\n",
            "1400 ----- processing:  فرکانس صفحه نمایش number refresh-rate\n",
            "1425 ----- processing:  درگاه‌ Lightening nan nan\n",
            "1450 ----- processing:  حس‌گرها nan nan\n",
            "1475 ----- processing:  برند لپ تاپ categorical brand\n",
            "1500 ----- processing:  گرید و وضعیت  nan nan\n",
            "1525 ----- processing:  مدل گرافیک یکپارچه categorical gpu-model\n",
            "1550 ----- processing:  کد nan nan\n",
            "1575 ----- processing:  جنس بدنه nan nan\n"
          ]
        },
        {
          "output_type": "execute_result",
          "data": {
            "text/plain": [
              "     تعداد رشته (Thread) سایز  \\\n",
              "0                   <NA>  NaN   \n",
              "1                   <NA>  NaN   \n",
              "2                    4.0  NaN   \n",
              "3                   <NA>  NaN   \n",
              "4                   <NA>  NaN   \n",
              "...                  ...  ...   \n",
              "1167                 NaN  NaN   \n",
              "1168                 NaN  NaN   \n",
              "1169                 NaN  NaN   \n",
              "1170                 NaN  NaN   \n",
              "1171                 NaN  NaN   \n",
              "\n",
              "     برند\\t\\t\\t\\t\\n\\t\\t\\t\\t\\t\\t\\t\\t\\t\\t\\t\\t\\t\\t\\t\\t\\t\\t\\t\\n\\t\\t\\t\\t\\t\\tریزر بلید Razer Blade  \\\n",
              "0                                                   NaN                                        \n",
              "1                                                   NaN                                        \n",
              "2                                                   NaN                                        \n",
              "3                                                   NaN                                        \n",
              "4                                                   NaN                                        \n",
              "...                                                 ...                                        \n",
              "1167                                                NaN                                        \n",
              "1168                                                NaN                                        \n",
              "1169                                                NaN                                        \n",
              "1170                                                NaN                                        \n",
              "1171                                                NaN                                        \n",
              "\n",
              "     برند و سری پورت Mini HDMI KEYBOARD BACKLIGHT بلوتوث داخلی  \\\n",
              "0           NaN            NaN                NaN          NaN   \n",
              "1           NaN            NaN                NaN          NaN   \n",
              "2           NaN            NaN                NaN          NaN   \n",
              "3           NaN            NaN                NaN          NaN   \n",
              "4           NaN            NaN                NaN          NaN   \n",
              "...         ...            ...                ...          ...   \n",
              "1167        NaN           <NA>                NaN          NaN   \n",
              "1168        NaN           <NA>                NaN          NaN   \n",
              "1169        NaN              0                NaN          NaN   \n",
              "1170        NaN           <NA>                NaN          NaN   \n",
              "1171        NaN           <NA>                NaN          NaN   \n",
              "\n",
              "     نوع کاربری لپتاپ نوع حافظه گرافیک کاربردهای خاص برای محصول چند رسانه ای  \\\n",
              "0                 NaN            GDDR6                                   NaN   \n",
              "1                 NaN              NaN                                   NaN   \n",
              "2                 NaN              NaN                                   NaN   \n",
              "3                 NaN              NaN                                   NaN   \n",
              "4                 NaN              NaN                                   NaN   \n",
              "...               ...              ...                                   ...   \n",
              "1167              NaN              NaN                                   NaN   \n",
              "1168              NaN              NaN                                   NaN   \n",
              "1169              NaN              NaN                                   NaN   \n",
              "1170              NaN              NaN                                   NaN   \n",
              "1171              NaN              NaN                                   NaN   \n",
              "\n",
              "      ... درگاه کارت حافظه تعداد پورت USB 4.0 قابلیت ارتقاء حافظه (هارد)  \\\n",
              "0     ...              NaN               <NA>                        NaN   \n",
              "1     ...              NaN                2.0                        NaN   \n",
              "2     ...              NaN               <NA>                        NaN   \n",
              "3     ...              NaN               <NA>                        NaN   \n",
              "4     ...              NaN               <NA>                        NaN   \n",
              "...   ...              ...                ...                        ...   \n",
              "1167  ...              NaN                NaN                        NaN   \n",
              "1168  ...              NaN                NaN                        NaN   \n",
              "1169  ...              NaN                NaN                        NaN   \n",
              "1170  ...              NaN                NaN                        NaN   \n",
              "1171  ...              NaN                NaN                        NaN   \n",
              "\n",
              "     DP/Type C نور پس زمینه کیبرد ویژگی های خاص پردازنده مرکزي.حافظه Cache  \\\n",
              "0          NaN                NaN           NaN                        NaN   \n",
              "1          NaN                NaN           NaN                        NaN   \n",
              "2          NaN                NaN           NaN                        NaN   \n",
              "3          NaN                NaN           NaN                        NaN   \n",
              "4          NaN                NaN           NaN                        NaN   \n",
              "...        ...                ...           ...                        ...   \n",
              "1167       NaN                NaN           NaN                        NaN   \n",
              "1168       NaN                NaN           NaN                        NaN   \n",
              "1169       NaN                NaN           NaN                        NaN   \n",
              "1170       NaN                NaN           NaN                        NaN   \n",
              "1171       NaN                NaN           NaN                        NaN   \n",
              "\n",
              "     نوع اتصال درگاه حافظه Touch ID  \n",
              "0          NaN        <NA>      NaN  \n",
              "1          NaN        <NA>      NaN  \n",
              "2          NaN        <NA>      NaN  \n",
              "3          NaN        <NA>      NaN  \n",
              "4          NaN           1      NaN  \n",
              "...        ...         ...      ...  \n",
              "1167       NaN         NaN      NaN  \n",
              "1168       NaN         NaN      NaN  \n",
              "1169       NaN         NaN      NaN  \n",
              "1170       NaN         NaN      NaN  \n",
              "1171       NaN         NaN      NaN  \n",
              "\n",
              "[1172 rows x 1008 columns]"
            ],
            "text/html": [
              "\n",
              "  <div id=\"df-87f54e75-84f2-4943-b0f5-8e792b4202ed\">\n",
              "    <div class=\"colab-df-container\">\n",
              "      <div>\n",
              "<style scoped>\n",
              "    .dataframe tbody tr th:only-of-type {\n",
              "        vertical-align: middle;\n",
              "    }\n",
              "\n",
              "    .dataframe tbody tr th {\n",
              "        vertical-align: top;\n",
              "    }\n",
              "\n",
              "    .dataframe thead th {\n",
              "        text-align: right;\n",
              "    }\n",
              "</style>\n",
              "<table border=\"1\" class=\"dataframe\">\n",
              "  <thead>\n",
              "    <tr style=\"text-align: right;\">\n",
              "      <th></th>\n",
              "      <th>تعداد رشته (Thread)</th>\n",
              "      <th>سایز</th>\n",
              "      <th>برند\\t\\t\\t\\t\\n\\t\\t\\t\\t\\t\\t\\t\\t\\t\\t\\t\\t\\t\\t\\t\\t\\t\\t\\t\\n\\t\\t\\t\\t\\t\\tریزر بلید Razer Blade</th>\n",
              "      <th>برند و سری</th>\n",
              "      <th>پورت Mini HDMI</th>\n",
              "      <th>KEYBOARD BACKLIGHT</th>\n",
              "      <th>بلوتوث داخلی</th>\n",
              "      <th>نوع کاربری لپتاپ</th>\n",
              "      <th>نوع حافظه گرافیک</th>\n",
              "      <th>کاربردهای خاص برای محصول چند رسانه ای</th>\n",
              "      <th>...</th>\n",
              "      <th>درگاه کارت حافظه</th>\n",
              "      <th>تعداد پورت USB 4.0</th>\n",
              "      <th>قابلیت ارتقاء حافظه (هارد)</th>\n",
              "      <th>DP/Type C</th>\n",
              "      <th>نور پس زمینه کیبرد</th>\n",
              "      <th>ویژگی های خاص</th>\n",
              "      <th>پردازنده مرکزي.حافظه Cache</th>\n",
              "      <th>نوع اتصال</th>\n",
              "      <th>درگاه حافظه</th>\n",
              "      <th>Touch ID</th>\n",
              "    </tr>\n",
              "  </thead>\n",
              "  <tbody>\n",
              "    <tr>\n",
              "      <th>0</th>\n",
              "      <td>&lt;NA&gt;</td>\n",
              "      <td>NaN</td>\n",
              "      <td>NaN</td>\n",
              "      <td>NaN</td>\n",
              "      <td>NaN</td>\n",
              "      <td>NaN</td>\n",
              "      <td>NaN</td>\n",
              "      <td>NaN</td>\n",
              "      <td>GDDR6</td>\n",
              "      <td>NaN</td>\n",
              "      <td>...</td>\n",
              "      <td>NaN</td>\n",
              "      <td>&lt;NA&gt;</td>\n",
              "      <td>NaN</td>\n",
              "      <td>NaN</td>\n",
              "      <td>NaN</td>\n",
              "      <td>NaN</td>\n",
              "      <td>NaN</td>\n",
              "      <td>NaN</td>\n",
              "      <td>&lt;NA&gt;</td>\n",
              "      <td>NaN</td>\n",
              "    </tr>\n",
              "    <tr>\n",
              "      <th>1</th>\n",
              "      <td>&lt;NA&gt;</td>\n",
              "      <td>NaN</td>\n",
              "      <td>NaN</td>\n",
              "      <td>NaN</td>\n",
              "      <td>NaN</td>\n",
              "      <td>NaN</td>\n",
              "      <td>NaN</td>\n",
              "      <td>NaN</td>\n",
              "      <td>NaN</td>\n",
              "      <td>NaN</td>\n",
              "      <td>...</td>\n",
              "      <td>NaN</td>\n",
              "      <td>2.0</td>\n",
              "      <td>NaN</td>\n",
              "      <td>NaN</td>\n",
              "      <td>NaN</td>\n",
              "      <td>NaN</td>\n",
              "      <td>NaN</td>\n",
              "      <td>NaN</td>\n",
              "      <td>&lt;NA&gt;</td>\n",
              "      <td>NaN</td>\n",
              "    </tr>\n",
              "    <tr>\n",
              "      <th>2</th>\n",
              "      <td>4.0</td>\n",
              "      <td>NaN</td>\n",
              "      <td>NaN</td>\n",
              "      <td>NaN</td>\n",
              "      <td>NaN</td>\n",
              "      <td>NaN</td>\n",
              "      <td>NaN</td>\n",
              "      <td>NaN</td>\n",
              "      <td>NaN</td>\n",
              "      <td>NaN</td>\n",
              "      <td>...</td>\n",
              "      <td>NaN</td>\n",
              "      <td>&lt;NA&gt;</td>\n",
              "      <td>NaN</td>\n",
              "      <td>NaN</td>\n",
              "      <td>NaN</td>\n",
              "      <td>NaN</td>\n",
              "      <td>NaN</td>\n",
              "      <td>NaN</td>\n",
              "      <td>&lt;NA&gt;</td>\n",
              "      <td>NaN</td>\n",
              "    </tr>\n",
              "    <tr>\n",
              "      <th>3</th>\n",
              "      <td>&lt;NA&gt;</td>\n",
              "      <td>NaN</td>\n",
              "      <td>NaN</td>\n",
              "      <td>NaN</td>\n",
              "      <td>NaN</td>\n",
              "      <td>NaN</td>\n",
              "      <td>NaN</td>\n",
              "      <td>NaN</td>\n",
              "      <td>NaN</td>\n",
              "      <td>NaN</td>\n",
              "      <td>...</td>\n",
              "      <td>NaN</td>\n",
              "      <td>&lt;NA&gt;</td>\n",
              "      <td>NaN</td>\n",
              "      <td>NaN</td>\n",
              "      <td>NaN</td>\n",
              "      <td>NaN</td>\n",
              "      <td>NaN</td>\n",
              "      <td>NaN</td>\n",
              "      <td>&lt;NA&gt;</td>\n",
              "      <td>NaN</td>\n",
              "    </tr>\n",
              "    <tr>\n",
              "      <th>4</th>\n",
              "      <td>&lt;NA&gt;</td>\n",
              "      <td>NaN</td>\n",
              "      <td>NaN</td>\n",
              "      <td>NaN</td>\n",
              "      <td>NaN</td>\n",
              "      <td>NaN</td>\n",
              "      <td>NaN</td>\n",
              "      <td>NaN</td>\n",
              "      <td>NaN</td>\n",
              "      <td>NaN</td>\n",
              "      <td>...</td>\n",
              "      <td>NaN</td>\n",
              "      <td>&lt;NA&gt;</td>\n",
              "      <td>NaN</td>\n",
              "      <td>NaN</td>\n",
              "      <td>NaN</td>\n",
              "      <td>NaN</td>\n",
              "      <td>NaN</td>\n",
              "      <td>NaN</td>\n",
              "      <td>1</td>\n",
              "      <td>NaN</td>\n",
              "    </tr>\n",
              "    <tr>\n",
              "      <th>...</th>\n",
              "      <td>...</td>\n",
              "      <td>...</td>\n",
              "      <td>...</td>\n",
              "      <td>...</td>\n",
              "      <td>...</td>\n",
              "      <td>...</td>\n",
              "      <td>...</td>\n",
              "      <td>...</td>\n",
              "      <td>...</td>\n",
              "      <td>...</td>\n",
              "      <td>...</td>\n",
              "      <td>...</td>\n",
              "      <td>...</td>\n",
              "      <td>...</td>\n",
              "      <td>...</td>\n",
              "      <td>...</td>\n",
              "      <td>...</td>\n",
              "      <td>...</td>\n",
              "      <td>...</td>\n",
              "      <td>...</td>\n",
              "      <td>...</td>\n",
              "    </tr>\n",
              "    <tr>\n",
              "      <th>1167</th>\n",
              "      <td>NaN</td>\n",
              "      <td>NaN</td>\n",
              "      <td>NaN</td>\n",
              "      <td>NaN</td>\n",
              "      <td>&lt;NA&gt;</td>\n",
              "      <td>NaN</td>\n",
              "      <td>NaN</td>\n",
              "      <td>NaN</td>\n",
              "      <td>NaN</td>\n",
              "      <td>NaN</td>\n",
              "      <td>...</td>\n",
              "      <td>NaN</td>\n",
              "      <td>NaN</td>\n",
              "      <td>NaN</td>\n",
              "      <td>NaN</td>\n",
              "      <td>NaN</td>\n",
              "      <td>NaN</td>\n",
              "      <td>NaN</td>\n",
              "      <td>NaN</td>\n",
              "      <td>NaN</td>\n",
              "      <td>NaN</td>\n",
              "    </tr>\n",
              "    <tr>\n",
              "      <th>1168</th>\n",
              "      <td>NaN</td>\n",
              "      <td>NaN</td>\n",
              "      <td>NaN</td>\n",
              "      <td>NaN</td>\n",
              "      <td>&lt;NA&gt;</td>\n",
              "      <td>NaN</td>\n",
              "      <td>NaN</td>\n",
              "      <td>NaN</td>\n",
              "      <td>NaN</td>\n",
              "      <td>NaN</td>\n",
              "      <td>...</td>\n",
              "      <td>NaN</td>\n",
              "      <td>NaN</td>\n",
              "      <td>NaN</td>\n",
              "      <td>NaN</td>\n",
              "      <td>NaN</td>\n",
              "      <td>NaN</td>\n",
              "      <td>NaN</td>\n",
              "      <td>NaN</td>\n",
              "      <td>NaN</td>\n",
              "      <td>NaN</td>\n",
              "    </tr>\n",
              "    <tr>\n",
              "      <th>1169</th>\n",
              "      <td>NaN</td>\n",
              "      <td>NaN</td>\n",
              "      <td>NaN</td>\n",
              "      <td>NaN</td>\n",
              "      <td>0</td>\n",
              "      <td>NaN</td>\n",
              "      <td>NaN</td>\n",
              "      <td>NaN</td>\n",
              "      <td>NaN</td>\n",
              "      <td>NaN</td>\n",
              "      <td>...</td>\n",
              "      <td>NaN</td>\n",
              "      <td>NaN</td>\n",
              "      <td>NaN</td>\n",
              "      <td>NaN</td>\n",
              "      <td>NaN</td>\n",
              "      <td>NaN</td>\n",
              "      <td>NaN</td>\n",
              "      <td>NaN</td>\n",
              "      <td>NaN</td>\n",
              "      <td>NaN</td>\n",
              "    </tr>\n",
              "    <tr>\n",
              "      <th>1170</th>\n",
              "      <td>NaN</td>\n",
              "      <td>NaN</td>\n",
              "      <td>NaN</td>\n",
              "      <td>NaN</td>\n",
              "      <td>&lt;NA&gt;</td>\n",
              "      <td>NaN</td>\n",
              "      <td>NaN</td>\n",
              "      <td>NaN</td>\n",
              "      <td>NaN</td>\n",
              "      <td>NaN</td>\n",
              "      <td>...</td>\n",
              "      <td>NaN</td>\n",
              "      <td>NaN</td>\n",
              "      <td>NaN</td>\n",
              "      <td>NaN</td>\n",
              "      <td>NaN</td>\n",
              "      <td>NaN</td>\n",
              "      <td>NaN</td>\n",
              "      <td>NaN</td>\n",
              "      <td>NaN</td>\n",
              "      <td>NaN</td>\n",
              "    </tr>\n",
              "    <tr>\n",
              "      <th>1171</th>\n",
              "      <td>NaN</td>\n",
              "      <td>NaN</td>\n",
              "      <td>NaN</td>\n",
              "      <td>NaN</td>\n",
              "      <td>&lt;NA&gt;</td>\n",
              "      <td>NaN</td>\n",
              "      <td>NaN</td>\n",
              "      <td>NaN</td>\n",
              "      <td>NaN</td>\n",
              "      <td>NaN</td>\n",
              "      <td>...</td>\n",
              "      <td>NaN</td>\n",
              "      <td>NaN</td>\n",
              "      <td>NaN</td>\n",
              "      <td>NaN</td>\n",
              "      <td>NaN</td>\n",
              "      <td>NaN</td>\n",
              "      <td>NaN</td>\n",
              "      <td>NaN</td>\n",
              "      <td>NaN</td>\n",
              "      <td>NaN</td>\n",
              "    </tr>\n",
              "  </tbody>\n",
              "</table>\n",
              "<p>1172 rows × 1008 columns</p>\n",
              "</div>\n",
              "      <button class=\"colab-df-convert\" onclick=\"convertToInteractive('df-87f54e75-84f2-4943-b0f5-8e792b4202ed')\"\n",
              "              title=\"Convert this dataframe to an interactive table.\"\n",
              "              style=\"display:none;\">\n",
              "        \n",
              "  <svg xmlns=\"http://www.w3.org/2000/svg\" height=\"24px\"viewBox=\"0 0 24 24\"\n",
              "       width=\"24px\">\n",
              "    <path d=\"M0 0h24v24H0V0z\" fill=\"none\"/>\n",
              "    <path d=\"M18.56 5.44l.94 2.06.94-2.06 2.06-.94-2.06-.94-.94-2.06-.94 2.06-2.06.94zm-11 1L8.5 8.5l.94-2.06 2.06-.94-2.06-.94L8.5 2.5l-.94 2.06-2.06.94zm10 10l.94 2.06.94-2.06 2.06-.94-2.06-.94-.94-2.06-.94 2.06-2.06.94z\"/><path d=\"M17.41 7.96l-1.37-1.37c-.4-.4-.92-.59-1.43-.59-.52 0-1.04.2-1.43.59L10.3 9.45l-7.72 7.72c-.78.78-.78 2.05 0 2.83L4 21.41c.39.39.9.59 1.41.59.51 0 1.02-.2 1.41-.59l7.78-7.78 2.81-2.81c.8-.78.8-2.07 0-2.86zM5.41 20L4 18.59l7.72-7.72 1.47 1.35L5.41 20z\"/>\n",
              "  </svg>\n",
              "      </button>\n",
              "      \n",
              "  <style>\n",
              "    .colab-df-container {\n",
              "      display:flex;\n",
              "      flex-wrap:wrap;\n",
              "      gap: 12px;\n",
              "    }\n",
              "\n",
              "    .colab-df-convert {\n",
              "      background-color: #E8F0FE;\n",
              "      border: none;\n",
              "      border-radius: 50%;\n",
              "      cursor: pointer;\n",
              "      display: none;\n",
              "      fill: #1967D2;\n",
              "      height: 32px;\n",
              "      padding: 0 0 0 0;\n",
              "      width: 32px;\n",
              "    }\n",
              "\n",
              "    .colab-df-convert:hover {\n",
              "      background-color: #E2EBFA;\n",
              "      box-shadow: 0px 1px 2px rgba(60, 64, 67, 0.3), 0px 1px 3px 1px rgba(60, 64, 67, 0.15);\n",
              "      fill: #174EA6;\n",
              "    }\n",
              "\n",
              "    [theme=dark] .colab-df-convert {\n",
              "      background-color: #3B4455;\n",
              "      fill: #D2E3FC;\n",
              "    }\n",
              "\n",
              "    [theme=dark] .colab-df-convert:hover {\n",
              "      background-color: #434B5C;\n",
              "      box-shadow: 0px 1px 3px 1px rgba(0, 0, 0, 0.15);\n",
              "      filter: drop-shadow(0px 1px 2px rgba(0, 0, 0, 0.3));\n",
              "      fill: #FFFFFF;\n",
              "    }\n",
              "  </style>\n",
              "\n",
              "      <script>\n",
              "        const buttonEl =\n",
              "          document.querySelector('#df-87f54e75-84f2-4943-b0f5-8e792b4202ed button.colab-df-convert');\n",
              "        buttonEl.style.display =\n",
              "          google.colab.kernel.accessAllowed ? 'block' : 'none';\n",
              "\n",
              "        async function convertToInteractive(key) {\n",
              "          const element = document.querySelector('#df-87f54e75-84f2-4943-b0f5-8e792b4202ed');\n",
              "          const dataTable =\n",
              "            await google.colab.kernel.invokeFunction('convertToInteractive',\n",
              "                                                     [key], {});\n",
              "          if (!dataTable) return;\n",
              "\n",
              "          const docLinkHtml = 'Like what you see? Visit the ' +\n",
              "            '<a target=\"_blank\" href=https://colab.research.google.com/notebooks/data_table.ipynb>data table notebook</a>'\n",
              "            + ' to learn more about interactive tables.';\n",
              "          element.innerHTML = '';\n",
              "          dataTable['output_type'] = 'display_data';\n",
              "          await google.colab.output.renderOutput(dataTable, element);\n",
              "          const docLink = document.createElement('div');\n",
              "          docLink.innerHTML = docLinkHtml;\n",
              "          element.appendChild(docLink);\n",
              "        }\n",
              "      </script>\n",
              "    </div>\n",
              "  </div>\n",
              "  "
            ]
          },
          "metadata": {},
          "execution_count": 13
        }
      ]
    },
    {
      "cell_type": "code",
      "source": [
        "df.to_csv('drive/MyDrive/ML/transformed.csv')"
      ],
      "metadata": {
        "id": "r0-bIwp1_rir"
      },
      "execution_count": 14,
      "outputs": []
    },
    {
      "cell_type": "code",
      "source": [
        "def join_cols(row):\n",
        "  r = row.dropna()\n",
        "  if len(r) == 0:\n",
        "    return np.nan\n",
        "  if len(r) != 1:\n",
        "    if type(r.iloc[0]) == float or type(r.iloc[0]) == int:\n",
        "      return np.mean(r)\n",
        "    return ' '.join(r.astype(str))\n",
        "  return r.iloc[0]\n",
        "\n",
        "df = df.rename(columns=str.strip)\n",
        "mapped_df = pd.DataFrame()\n",
        "# Iterate through each column group\n",
        "for new_column, old_columns in mapped_features.items():\n",
        "    # Create a new column by joining the values from old columns\n",
        "    old_columns = set(old_columns).intersection(set(df.columns))\n",
        "    mapped_df[new_column] = df[old_columns].apply(join_cols, axis=1)\n",
        "\n",
        "mapped_df"
      ],
      "metadata": {
        "colab": {
          "base_uri": "https://localhost:8080/",
          "height": 1000
        },
        "id": "J-zV1j4ZeqNx",
        "outputId": "0f6d53f5-6351-4538-c7cd-e20d518899be"
      },
      "execution_count": 15,
      "outputs": [
        {
          "output_type": "execute_result",
          "data": {
            "text/plain": [
              "     aspect-ratio  battery-life  battery-wh  bluetooth          brand  \\\n",
              "0             NaN           NaN        45.0        1.0  Lenovo | لنوو   \n",
              "1             NaN          15.0        49.9        1.0          Apple   \n",
              "2             NaN           2.0        35.0        1.0            NaN   \n",
              "3             NaN           3.0        76.0        NaN            NaN   \n",
              "4             NaN           4.0        35.0        1.0            NaN   \n",
              "...           ...           ...         ...        ...            ...   \n",
              "1167          NaN           NaN         NaN        NaN            NaN   \n",
              "1168          NaN         500.0        33.0        1.0            NaN   \n",
              "1169          NaN           NaN        35.0        1.0            NaN   \n",
              "1170          NaN           NaN        48.0        1.0           ASUS   \n",
              "1171          NaN           3.0        71.0        NaN            NaN   \n",
              "\n",
              "      cam-resolution  clean-cpu-model  clean-display-size  \\\n",
              "0                NaN              NaN                 NaN   \n",
              "1                NaN              NaN                 NaN   \n",
              "2                NaN              NaN                 NaN   \n",
              "3                NaN              NaN                 NaN   \n",
              "4                NaN              NaN                 NaN   \n",
              "...              ...              ...                 ...   \n",
              "1167             NaN              NaN                 NaN   \n",
              "1168             NaN              NaN                 NaN   \n",
              "1169             NaN              NaN                 NaN   \n",
              "1170             NaN              NaN                 NaN   \n",
              "1171             NaN              NaN                 NaN   \n",
              "\n",
              "      clean-gpu-memory-gb  clean-hdd-gb  ...  thunderbolt-has  \\\n",
              "0                     NaN           NaN  ...              NaN   \n",
              "1                     NaN           NaN  ...              1.0   \n",
              "2                     NaN           NaN  ...              NaN   \n",
              "3                     NaN           NaN  ...              NaN   \n",
              "4                     NaN           NaN  ...              NaN   \n",
              "...                   ...           ...  ...              ...   \n",
              "1167                  NaN           NaN  ...              NaN   \n",
              "1168                  NaN           NaN  ...              0.0   \n",
              "1169                  NaN           NaN  ...              0.0   \n",
              "1170                  NaN           NaN  ...              NaN   \n",
              "1171                  NaN           NaN  ...              NaN   \n",
              "\n",
              "                                                  title touch-screen-has  \\\n",
              "0     لپ تاپ لنوو IdeaPad Gaming 3 | 16GB RAM | 512G...              0.0   \n",
              "1     مک بوک ایر 8GB RAM | 256GB SSD | M1 | MGN63 ا ...              0.0   \n",
              "2     لپ تاپ لنوو Ideapad 3 | 12GB RAM | 256GB SSD |...              0.0   \n",
              "3     لپ تاپ ایسوس FX517ZR | 16GB RAM | 512GB SSD | ...              NaN   \n",
              "4     لپ تاپ لنوو  Ideapad 3  | 4GB RAM | 1TB HDD | ...              0.0   \n",
              "...                                                 ...              ...   \n",
              "1167  لپ تاپ لنوو Lenovo Thinkpad T480 ا lenovo thin...              NaN   \n",
              "1168  لپ تاپ ایسوس 15.6 اینچی مدل VivoBook X540YA پر...              0.0   \n",
              "1169  لپ تاپ لنوو  V15 | 12GB RAM | 1TB HDD | 128GB ...              0.0   \n",
              "1170  لپ تاپ ایسوس 17 اینچی مدل FX706HC پردازنده Cor...              0.0   \n",
              "1171  لپ تاپ 15.6 اینچی لنوو مدل IdeaPad Gaming 3/R7...              NaN   \n",
              "\n",
              "                                                  usage  usb2      usb3  usb4  \\\n",
              "0                                                   NaN   0.0  0.666667   NaN   \n",
              "1                            کاربری عمومی , باریک و سبک   NaN       NaN   1.5   \n",
              "2                                                   NaN   1.0  2.000000   NaN   \n",
              "3                    برنامه نویسی, تدوین, طراحی, گیمینگ   NaN  2.000000   NaN   \n",
              "4                                                   NaN   1.0  2.000000   NaN   \n",
              "...                                                 ...   ...       ...   ...   \n",
              "1167                                                NaN   NaN       NaN   NaN   \n",
              "1168                                       کاربری عمومی   NaN       NaN   NaN   \n",
              "1169                                                NaN   1.0  0.666667   NaN   \n",
              "1170                                                NaN   0.0  3.000000   NaN   \n",
              "1171  برنامه نویسی, تدوین, دانشجویی, طراحی, گیمینگ, ...   NaN  2.000000   NaN   \n",
              "\n",
              "     usbc  weight  weight-pound  \n",
              "0     1.0    2.31           NaN  \n",
              "1     1.0    1.29           NaN  \n",
              "2     0.0    1.70           NaN  \n",
              "3     4.0    2.00           NaN  \n",
              "4     0.0    0.85           NaN  \n",
              "...   ...     ...           ...  \n",
              "1167  NaN     NaN           NaN  \n",
              "1168  1.0    2.00           NaN  \n",
              "1169  0.0    1.85           NaN  \n",
              "1170  NaN    2.60           NaN  \n",
              "1171  1.0    2.50           NaN  \n",
              "\n",
              "[1172 rows x 81 columns]"
            ],
            "text/html": [
              "\n",
              "  <div id=\"df-ec1ec230-a6e8-4f3e-a3cf-726979253db8\">\n",
              "    <div class=\"colab-df-container\">\n",
              "      <div>\n",
              "<style scoped>\n",
              "    .dataframe tbody tr th:only-of-type {\n",
              "        vertical-align: middle;\n",
              "    }\n",
              "\n",
              "    .dataframe tbody tr th {\n",
              "        vertical-align: top;\n",
              "    }\n",
              "\n",
              "    .dataframe thead th {\n",
              "        text-align: right;\n",
              "    }\n",
              "</style>\n",
              "<table border=\"1\" class=\"dataframe\">\n",
              "  <thead>\n",
              "    <tr style=\"text-align: right;\">\n",
              "      <th></th>\n",
              "      <th>aspect-ratio</th>\n",
              "      <th>battery-life</th>\n",
              "      <th>battery-wh</th>\n",
              "      <th>bluetooth</th>\n",
              "      <th>brand</th>\n",
              "      <th>cam-resolution</th>\n",
              "      <th>clean-cpu-model</th>\n",
              "      <th>clean-display-size</th>\n",
              "      <th>clean-gpu-memory-gb</th>\n",
              "      <th>clean-hdd-gb</th>\n",
              "      <th>...</th>\n",
              "      <th>thunderbolt-has</th>\n",
              "      <th>title</th>\n",
              "      <th>touch-screen-has</th>\n",
              "      <th>usage</th>\n",
              "      <th>usb2</th>\n",
              "      <th>usb3</th>\n",
              "      <th>usb4</th>\n",
              "      <th>usbc</th>\n",
              "      <th>weight</th>\n",
              "      <th>weight-pound</th>\n",
              "    </tr>\n",
              "  </thead>\n",
              "  <tbody>\n",
              "    <tr>\n",
              "      <th>0</th>\n",
              "      <td>NaN</td>\n",
              "      <td>NaN</td>\n",
              "      <td>45.0</td>\n",
              "      <td>1.0</td>\n",
              "      <td>Lenovo | لنوو</td>\n",
              "      <td>NaN</td>\n",
              "      <td>NaN</td>\n",
              "      <td>NaN</td>\n",
              "      <td>NaN</td>\n",
              "      <td>NaN</td>\n",
              "      <td>...</td>\n",
              "      <td>NaN</td>\n",
              "      <td>لپ تاپ لنوو IdeaPad Gaming 3 | 16GB RAM | 512G...</td>\n",
              "      <td>0.0</td>\n",
              "      <td>NaN</td>\n",
              "      <td>0.0</td>\n",
              "      <td>0.666667</td>\n",
              "      <td>NaN</td>\n",
              "      <td>1.0</td>\n",
              "      <td>2.31</td>\n",
              "      <td>NaN</td>\n",
              "    </tr>\n",
              "    <tr>\n",
              "      <th>1</th>\n",
              "      <td>NaN</td>\n",
              "      <td>15.0</td>\n",
              "      <td>49.9</td>\n",
              "      <td>1.0</td>\n",
              "      <td>Apple</td>\n",
              "      <td>NaN</td>\n",
              "      <td>NaN</td>\n",
              "      <td>NaN</td>\n",
              "      <td>NaN</td>\n",
              "      <td>NaN</td>\n",
              "      <td>...</td>\n",
              "      <td>1.0</td>\n",
              "      <td>مک بوک ایر 8GB RAM | 256GB SSD | M1 | MGN63 ا ...</td>\n",
              "      <td>0.0</td>\n",
              "      <td>کاربری عمومی , باریک و سبک</td>\n",
              "      <td>NaN</td>\n",
              "      <td>NaN</td>\n",
              "      <td>1.5</td>\n",
              "      <td>1.0</td>\n",
              "      <td>1.29</td>\n",
              "      <td>NaN</td>\n",
              "    </tr>\n",
              "    <tr>\n",
              "      <th>2</th>\n",
              "      <td>NaN</td>\n",
              "      <td>2.0</td>\n",
              "      <td>35.0</td>\n",
              "      <td>1.0</td>\n",
              "      <td>NaN</td>\n",
              "      <td>NaN</td>\n",
              "      <td>NaN</td>\n",
              "      <td>NaN</td>\n",
              "      <td>NaN</td>\n",
              "      <td>NaN</td>\n",
              "      <td>...</td>\n",
              "      <td>NaN</td>\n",
              "      <td>لپ تاپ لنوو Ideapad 3 | 12GB RAM | 256GB SSD |...</td>\n",
              "      <td>0.0</td>\n",
              "      <td>NaN</td>\n",
              "      <td>1.0</td>\n",
              "      <td>2.000000</td>\n",
              "      <td>NaN</td>\n",
              "      <td>0.0</td>\n",
              "      <td>1.70</td>\n",
              "      <td>NaN</td>\n",
              "    </tr>\n",
              "    <tr>\n",
              "      <th>3</th>\n",
              "      <td>NaN</td>\n",
              "      <td>3.0</td>\n",
              "      <td>76.0</td>\n",
              "      <td>NaN</td>\n",
              "      <td>NaN</td>\n",
              "      <td>NaN</td>\n",
              "      <td>NaN</td>\n",
              "      <td>NaN</td>\n",
              "      <td>NaN</td>\n",
              "      <td>NaN</td>\n",
              "      <td>...</td>\n",
              "      <td>NaN</td>\n",
              "      <td>لپ تاپ ایسوس FX517ZR | 16GB RAM | 512GB SSD | ...</td>\n",
              "      <td>NaN</td>\n",
              "      <td>برنامه نویسی, تدوین, طراحی, گیمینگ</td>\n",
              "      <td>NaN</td>\n",
              "      <td>2.000000</td>\n",
              "      <td>NaN</td>\n",
              "      <td>4.0</td>\n",
              "      <td>2.00</td>\n",
              "      <td>NaN</td>\n",
              "    </tr>\n",
              "    <tr>\n",
              "      <th>4</th>\n",
              "      <td>NaN</td>\n",
              "      <td>4.0</td>\n",
              "      <td>35.0</td>\n",
              "      <td>1.0</td>\n",
              "      <td>NaN</td>\n",
              "      <td>NaN</td>\n",
              "      <td>NaN</td>\n",
              "      <td>NaN</td>\n",
              "      <td>NaN</td>\n",
              "      <td>NaN</td>\n",
              "      <td>...</td>\n",
              "      <td>NaN</td>\n",
              "      <td>لپ تاپ لنوو  Ideapad 3  | 4GB RAM | 1TB HDD | ...</td>\n",
              "      <td>0.0</td>\n",
              "      <td>NaN</td>\n",
              "      <td>1.0</td>\n",
              "      <td>2.000000</td>\n",
              "      <td>NaN</td>\n",
              "      <td>0.0</td>\n",
              "      <td>0.85</td>\n",
              "      <td>NaN</td>\n",
              "    </tr>\n",
              "    <tr>\n",
              "      <th>...</th>\n",
              "      <td>...</td>\n",
              "      <td>...</td>\n",
              "      <td>...</td>\n",
              "      <td>...</td>\n",
              "      <td>...</td>\n",
              "      <td>...</td>\n",
              "      <td>...</td>\n",
              "      <td>...</td>\n",
              "      <td>...</td>\n",
              "      <td>...</td>\n",
              "      <td>...</td>\n",
              "      <td>...</td>\n",
              "      <td>...</td>\n",
              "      <td>...</td>\n",
              "      <td>...</td>\n",
              "      <td>...</td>\n",
              "      <td>...</td>\n",
              "      <td>...</td>\n",
              "      <td>...</td>\n",
              "      <td>...</td>\n",
              "      <td>...</td>\n",
              "    </tr>\n",
              "    <tr>\n",
              "      <th>1167</th>\n",
              "      <td>NaN</td>\n",
              "      <td>NaN</td>\n",
              "      <td>NaN</td>\n",
              "      <td>NaN</td>\n",
              "      <td>NaN</td>\n",
              "      <td>NaN</td>\n",
              "      <td>NaN</td>\n",
              "      <td>NaN</td>\n",
              "      <td>NaN</td>\n",
              "      <td>NaN</td>\n",
              "      <td>...</td>\n",
              "      <td>NaN</td>\n",
              "      <td>لپ تاپ لنوو Lenovo Thinkpad T480 ا lenovo thin...</td>\n",
              "      <td>NaN</td>\n",
              "      <td>NaN</td>\n",
              "      <td>NaN</td>\n",
              "      <td>NaN</td>\n",
              "      <td>NaN</td>\n",
              "      <td>NaN</td>\n",
              "      <td>NaN</td>\n",
              "      <td>NaN</td>\n",
              "    </tr>\n",
              "    <tr>\n",
              "      <th>1168</th>\n",
              "      <td>NaN</td>\n",
              "      <td>500.0</td>\n",
              "      <td>33.0</td>\n",
              "      <td>1.0</td>\n",
              "      <td>NaN</td>\n",
              "      <td>NaN</td>\n",
              "      <td>NaN</td>\n",
              "      <td>NaN</td>\n",
              "      <td>NaN</td>\n",
              "      <td>NaN</td>\n",
              "      <td>...</td>\n",
              "      <td>0.0</td>\n",
              "      <td>لپ تاپ ایسوس 15.6 اینچی مدل VivoBook X540YA پر...</td>\n",
              "      <td>0.0</td>\n",
              "      <td>کاربری عمومی</td>\n",
              "      <td>NaN</td>\n",
              "      <td>NaN</td>\n",
              "      <td>NaN</td>\n",
              "      <td>1.0</td>\n",
              "      <td>2.00</td>\n",
              "      <td>NaN</td>\n",
              "    </tr>\n",
              "    <tr>\n",
              "      <th>1169</th>\n",
              "      <td>NaN</td>\n",
              "      <td>NaN</td>\n",
              "      <td>35.0</td>\n",
              "      <td>1.0</td>\n",
              "      <td>NaN</td>\n",
              "      <td>NaN</td>\n",
              "      <td>NaN</td>\n",
              "      <td>NaN</td>\n",
              "      <td>NaN</td>\n",
              "      <td>NaN</td>\n",
              "      <td>...</td>\n",
              "      <td>0.0</td>\n",
              "      <td>لپ تاپ لنوو  V15 | 12GB RAM | 1TB HDD | 128GB ...</td>\n",
              "      <td>0.0</td>\n",
              "      <td>NaN</td>\n",
              "      <td>1.0</td>\n",
              "      <td>0.666667</td>\n",
              "      <td>NaN</td>\n",
              "      <td>0.0</td>\n",
              "      <td>1.85</td>\n",
              "      <td>NaN</td>\n",
              "    </tr>\n",
              "    <tr>\n",
              "      <th>1170</th>\n",
              "      <td>NaN</td>\n",
              "      <td>NaN</td>\n",
              "      <td>48.0</td>\n",
              "      <td>1.0</td>\n",
              "      <td>ASUS</td>\n",
              "      <td>NaN</td>\n",
              "      <td>NaN</td>\n",
              "      <td>NaN</td>\n",
              "      <td>NaN</td>\n",
              "      <td>NaN</td>\n",
              "      <td>...</td>\n",
              "      <td>NaN</td>\n",
              "      <td>لپ تاپ ایسوس 17 اینچی مدل FX706HC پردازنده Cor...</td>\n",
              "      <td>0.0</td>\n",
              "      <td>NaN</td>\n",
              "      <td>0.0</td>\n",
              "      <td>3.000000</td>\n",
              "      <td>NaN</td>\n",
              "      <td>NaN</td>\n",
              "      <td>2.60</td>\n",
              "      <td>NaN</td>\n",
              "    </tr>\n",
              "    <tr>\n",
              "      <th>1171</th>\n",
              "      <td>NaN</td>\n",
              "      <td>3.0</td>\n",
              "      <td>71.0</td>\n",
              "      <td>NaN</td>\n",
              "      <td>NaN</td>\n",
              "      <td>NaN</td>\n",
              "      <td>NaN</td>\n",
              "      <td>NaN</td>\n",
              "      <td>NaN</td>\n",
              "      <td>NaN</td>\n",
              "      <td>...</td>\n",
              "      <td>NaN</td>\n",
              "      <td>لپ تاپ 15.6 اینچی لنوو مدل IdeaPad Gaming 3/R7...</td>\n",
              "      <td>NaN</td>\n",
              "      <td>برنامه نویسی, تدوین, دانشجویی, طراحی, گیمینگ, ...</td>\n",
              "      <td>NaN</td>\n",
              "      <td>2.000000</td>\n",
              "      <td>NaN</td>\n",
              "      <td>1.0</td>\n",
              "      <td>2.50</td>\n",
              "      <td>NaN</td>\n",
              "    </tr>\n",
              "  </tbody>\n",
              "</table>\n",
              "<p>1172 rows × 81 columns</p>\n",
              "</div>\n",
              "      <button class=\"colab-df-convert\" onclick=\"convertToInteractive('df-ec1ec230-a6e8-4f3e-a3cf-726979253db8')\"\n",
              "              title=\"Convert this dataframe to an interactive table.\"\n",
              "              style=\"display:none;\">\n",
              "        \n",
              "  <svg xmlns=\"http://www.w3.org/2000/svg\" height=\"24px\"viewBox=\"0 0 24 24\"\n",
              "       width=\"24px\">\n",
              "    <path d=\"M0 0h24v24H0V0z\" fill=\"none\"/>\n",
              "    <path d=\"M18.56 5.44l.94 2.06.94-2.06 2.06-.94-2.06-.94-.94-2.06-.94 2.06-2.06.94zm-11 1L8.5 8.5l.94-2.06 2.06-.94-2.06-.94L8.5 2.5l-.94 2.06-2.06.94zm10 10l.94 2.06.94-2.06 2.06-.94-2.06-.94-.94-2.06-.94 2.06-2.06.94z\"/><path d=\"M17.41 7.96l-1.37-1.37c-.4-.4-.92-.59-1.43-.59-.52 0-1.04.2-1.43.59L10.3 9.45l-7.72 7.72c-.78.78-.78 2.05 0 2.83L4 21.41c.39.39.9.59 1.41.59.51 0 1.02-.2 1.41-.59l7.78-7.78 2.81-2.81c.8-.78.8-2.07 0-2.86zM5.41 20L4 18.59l7.72-7.72 1.47 1.35L5.41 20z\"/>\n",
              "  </svg>\n",
              "      </button>\n",
              "      \n",
              "  <style>\n",
              "    .colab-df-container {\n",
              "      display:flex;\n",
              "      flex-wrap:wrap;\n",
              "      gap: 12px;\n",
              "    }\n",
              "\n",
              "    .colab-df-convert {\n",
              "      background-color: #E8F0FE;\n",
              "      border: none;\n",
              "      border-radius: 50%;\n",
              "      cursor: pointer;\n",
              "      display: none;\n",
              "      fill: #1967D2;\n",
              "      height: 32px;\n",
              "      padding: 0 0 0 0;\n",
              "      width: 32px;\n",
              "    }\n",
              "\n",
              "    .colab-df-convert:hover {\n",
              "      background-color: #E2EBFA;\n",
              "      box-shadow: 0px 1px 2px rgba(60, 64, 67, 0.3), 0px 1px 3px 1px rgba(60, 64, 67, 0.15);\n",
              "      fill: #174EA6;\n",
              "    }\n",
              "\n",
              "    [theme=dark] .colab-df-convert {\n",
              "      background-color: #3B4455;\n",
              "      fill: #D2E3FC;\n",
              "    }\n",
              "\n",
              "    [theme=dark] .colab-df-convert:hover {\n",
              "      background-color: #434B5C;\n",
              "      box-shadow: 0px 1px 3px 1px rgba(0, 0, 0, 0.15);\n",
              "      filter: drop-shadow(0px 1px 2px rgba(0, 0, 0, 0.3));\n",
              "      fill: #FFFFFF;\n",
              "    }\n",
              "  </style>\n",
              "\n",
              "      <script>\n",
              "        const buttonEl =\n",
              "          document.querySelector('#df-ec1ec230-a6e8-4f3e-a3cf-726979253db8 button.colab-df-convert');\n",
              "        buttonEl.style.display =\n",
              "          google.colab.kernel.accessAllowed ? 'block' : 'none';\n",
              "\n",
              "        async function convertToInteractive(key) {\n",
              "          const element = document.querySelector('#df-ec1ec230-a6e8-4f3e-a3cf-726979253db8');\n",
              "          const dataTable =\n",
              "            await google.colab.kernel.invokeFunction('convertToInteractive',\n",
              "                                                     [key], {});\n",
              "          if (!dataTable) return;\n",
              "\n",
              "          const docLinkHtml = 'Like what you see? Visit the ' +\n",
              "            '<a target=\"_blank\" href=https://colab.research.google.com/notebooks/data_table.ipynb>data table notebook</a>'\n",
              "            + ' to learn more about interactive tables.';\n",
              "          element.innerHTML = '';\n",
              "          dataTable['output_type'] = 'display_data';\n",
              "          await google.colab.output.renderOutput(dataTable, element);\n",
              "          const docLink = document.createElement('div');\n",
              "          docLink.innerHTML = docLinkHtml;\n",
              "          element.appendChild(docLink);\n",
              "        }\n",
              "      </script>\n",
              "    </div>\n",
              "  </div>\n",
              "  "
            ]
          },
          "metadata": {},
          "execution_count": 15
        }
      ]
    },
    {
      "cell_type": "code",
      "source": [
        "mapped_df.to_csv('drive/MyDrive/ML/mapped.csv')"
      ],
      "metadata": {
        "id": "CKj8QEdjCF1c"
      },
      "execution_count": 77,
      "outputs": []
    },
    {
      "cell_type": "code",
      "source": [
        "fm[fm['how-to-extract-value'] == 'categorical']['mapped-name'].value_counts()"
      ],
      "metadata": {
        "colab": {
          "base_uri": "https://localhost:8080/"
        },
        "id": "HbASDS_QLmWM",
        "outputId": "d73fa30b-a3dd-4adb-ae11-89b700c08718"
      },
      "execution_count": 78,
      "outputs": [
        {
          "output_type": "execute_result",
          "data": {
            "text/plain": [
              "usage              31\n",
              "gpu-model          28\n",
              "cpu-model          27\n",
              "gpu-brand          21\n",
              "storage-type       21\n",
              "os                 18\n",
              "display-type       17\n",
              "cpu-brand          17\n",
              "brand              15\n",
              "ram-type           14\n",
              "gpu-memory-type     8\n",
              "country             4\n",
              "storage-port        3\n",
              "aspect-ratio        2\n",
              "ram-interface       1\n",
              "title               1\n",
              "ssd-port            1\n",
              "clean-cpu-model     1\n",
              "Name: mapped-name, dtype: int64"
            ]
          },
          "metadata": {},
          "execution_count": 78
        }
      ]
    },
    {
      "cell_type": "code",
      "source": [
        "mapped_df['storage-connection-pcie'].unique()"
      ],
      "metadata": {
        "colab": {
          "base_uri": "https://localhost:8080/"
        },
        "id": "yugFI_CcLoRQ",
        "outputId": "a47ea1f4-9bee-44a3-d4d0-096b57e4ddc4"
      },
      "execution_count": 79,
      "outputs": [
        {
          "output_type": "execute_result",
          "data": {
            "text/plain": [
              "array([      nan, 4.000e+00, 3.000e+00, 4.016e+00, 4.168e+03])"
            ]
          },
          "metadata": {},
          "execution_count": 79
        }
      ]
    },
    {
      "cell_type": "code",
      "source": [
        "categories = {\n",
        "  'usage': [['game', 'گیم', 'گيم', 'حرفه'], ['media', 'مدیا', 'مالتی', 'مديا']],\n",
        "  'gpu-model': [['rtx'], ['gtx', 'geforce', 'nvidia'], ['intel', 'iris'], ['amd', 'radeon'], ['apple']],\n",
        "  'cpu-model': [['i3'], ['i5'], ['i7'], ['i9'], ['ryzen-high', 'ryzen 9', 'ryzen 8', 'ryzen 7'], ['ryzen-low', 'ryzen'], ['m1'], ['m2'], ['carrizo'], ['celeron']],\n",
        "  'storage-type': [['nvme'], ['pcie'], ['m2', 'm.2'], ['hybrid', 'هیبرید'], ['emmc']],\n",
        "  'gpu-brand': [['nvidia', 'gtx', 'geforce'], ['apple'], ['intel'], ['amd', 'radeon']],\n",
        "  'os': [['dos'], ['mac'], ['windows', 'ویندوز', 'ويندوز']],\n",
        "  'cpu-brand': [['intel'], ['amd']],\n",
        "  'display-type': [['oled'], ['ips'], ['led'], ['tft'], ['tn']],\n",
        "  'title': [['lenovo', 'لنوو', 'legion'], ['asus', 'ایسوس', 'rog', 'tuf'], ['hp', 'اچ‌پی'], ['dell', 'دل'], ['acer', 'ایسر'], ['apple', 'اپل', 'mac'], ['msi'], ['microsoft', 'surface', 'سرفیس'], ['toshiba', 'توشیبا'], ['huawei', 'huawei'], ['xiaomi', 'شیائومی'], ['razer', 'ریزر'], ['vaio'], ['sony', 'سونی'], ['samsung', 'سامسونگ']],\n",
        "  'ram-type': [['ddr4'], ['ddr5'], ['ddr3']],\n",
        "  'gpu-memory-type': [['ddr4'], ['ddr5'], ['ddr3']],\n",
        "  'country': [['america', 'آمریکا'], ['taiwan', 'تایوان'], ['china', 'چین']],\n",
        "  'aspect-ratio': [['16:9'], ['3:2'], ['16:10']],\n",
        "  'clean-cpu-model': 'same',\n",
        "  'ram-interface': [['128'], ['256']],\n",
        "  'ssd-port': [['1', '']],\n",
        "}\n",
        "\n",
        "mapped_df_cat = mapped_df\n",
        "def transform_category(value, groups):\n",
        "  if pd.isna(value):\n",
        "    return np.nan\n",
        "  for g in groups:\n",
        "    if any(key in value.lower() for key in g):\n",
        "      return g[0]\n",
        "  return np.nan\n",
        "\n",
        "for col in fm[fm['how-to-extract-value'] == 'categorical']['mapped-name'].dropna().unique():\n",
        "  if col not in categories:\n",
        "    if col in mapped_df_cat.columns:\n",
        "      mapped_df_cat.drop([col], axis=1, inplace=True)\n",
        "    continue\n",
        "  mapped_df_cat[col] = mapped_df_cat[col].apply(transform_category, args=(categories[col],))"
      ],
      "metadata": {
        "id": "jJpSdp0pLgDT"
      },
      "execution_count": 80,
      "outputs": []
    },
    {
      "cell_type": "code",
      "source": [
        "mapped_df_cat.to_csv('drive/MyDrive/ML/mapped_with_categorical.csv')"
      ],
      "metadata": {
        "id": "tAW6NsmNUH09"
      },
      "execution_count": 81,
      "outputs": []
    },
    {
      "cell_type": "code",
      "source": [
        "new_df = pd.read_csv('drive/MyDrive/ML/mapped_with_categorical.csv')"
      ],
      "metadata": {
        "id": "OZV1vCwz8XRS"
      },
      "execution_count": 82,
      "outputs": []
    },
    {
      "cell_type": "markdown",
      "source": [
        "We had a small problem here finding null values of some specific columns in our csv file. We had to get a duplicate of it (*clean_df*) and then split our wanted columns. Next we merged the correspandent columns."
      ],
      "metadata": {
        "id": "X7NGpCXkKicH"
      }
    },
    {
      "cell_type": "code",
      "source": [
        "clean_df = pd.read_csv('drive/MyDrive/ML/mapped_with_categorical.csv',na_values=\"NaN\")\n",
        "clean_df = clean_df[['clean-cpu-model','clean-display-size','clean-gpu-memory-gb','clean-hdd-gb','clean-ram-gb','clean-ssd-gb']]\n",
        "clean_df.info()"
      ],
      "metadata": {
        "id": "4BpNhALi6-AZ",
        "colab": {
          "base_uri": "https://localhost:8080/"
        },
        "outputId": "ef2a8079-9143-4305-f1f9-dc785b73c861"
      },
      "execution_count": 83,
      "outputs": [
        {
          "output_type": "stream",
          "name": "stdout",
          "text": [
            "<class 'pandas.core.frame.DataFrame'>\n",
            "RangeIndex: 1172 entries, 0 to 1171\n",
            "Data columns (total 6 columns):\n",
            " #   Column               Non-Null Count  Dtype  \n",
            "---  ------               --------------  -----  \n",
            " 0   clean-cpu-model      0 non-null      float64\n",
            " 1   clean-display-size   0 non-null      float64\n",
            " 2   clean-gpu-memory-gb  0 non-null      float64\n",
            " 3   clean-hdd-gb         0 non-null      float64\n",
            " 4   clean-ram-gb         0 non-null      float64\n",
            " 5   clean-ssd-gb         0 non-null      float64\n",
            "dtypes: float64(6)\n",
            "memory usage: 55.1 KB\n"
          ]
        }
      ]
    },
    {
      "cell_type": "code",
      "source": [
        "new_df.shape"
      ],
      "metadata": {
        "colab": {
          "base_uri": "https://localhost:8080/"
        },
        "id": "1ENk52kZ0DNx",
        "outputId": "485ba9b3-e694-4b63-f6ae-7c1cacccfd2d"
      },
      "execution_count": 84,
      "outputs": [
        {
          "output_type": "execute_result",
          "data": {
            "text/plain": [
              "(1172, 80)"
            ]
          },
          "metadata": {},
          "execution_count": 84
        }
      ]
    },
    {
      "cell_type": "markdown",
      "source": [
        "## Explore and understand the features"
      ],
      "metadata": {
        "id": "yBPw2dd28mRz"
      }
    },
    {
      "cell_type": "code",
      "source": [
        "new_df.info()"
      ],
      "metadata": {
        "colab": {
          "base_uri": "https://localhost:8080/"
        },
        "id": "xFr6Hm6x7IBO",
        "outputId": "c3cf4ecd-6ce7-4ed1-e0a7-68d841f3aa44"
      },
      "execution_count": 85,
      "outputs": [
        {
          "output_type": "stream",
          "name": "stdout",
          "text": [
            "<class 'pandas.core.frame.DataFrame'>\n",
            "RangeIndex: 1172 entries, 0 to 1171\n",
            "Data columns (total 80 columns):\n",
            " #   Column                   Non-Null Count  Dtype  \n",
            "---  ------                   --------------  -----  \n",
            " 0   Unnamed: 0               1172 non-null   int64  \n",
            " 1   aspect-ratio             9 non-null      object \n",
            " 2   battery-life             629 non-null    float64\n",
            " 3   battery-wh               824 non-null    float64\n",
            " 4   bluetooth                746 non-null    float64\n",
            " 5   cam-resolution           3 non-null      float64\n",
            " 6   clean-cpu-model          0 non-null      float64\n",
            " 7   clean-display-size       0 non-null      float64\n",
            " 8   clean-gpu-memory-gb      0 non-null      float64\n",
            " 9   clean-hdd-gb             0 non-null      float64\n",
            " 10  clean-ram-gb             0 non-null      float64\n",
            " 11  clean-ssd-gb             0 non-null      float64\n",
            " 12  country                  303 non-null    object \n",
            " 13  cpu-brand                846 non-null    object \n",
            " 14  cpu-cache-mb             964 non-null    float64\n",
            " 15  cpu-cores                729 non-null    float64\n",
            " 16  cpu-gen                  363 non-null    float64\n",
            " 17  cpu-model                1052 non-null   object \n",
            " 18  cpu-threads              473 non-null    float64\n",
            " 19  depth-mm                 44 non-null     float64\n",
            " 20  display-port-has         164 non-null    float64\n",
            " 21  display-res              949 non-null    float64\n",
            " 22  display-size             1023 non-null   float64\n",
            " 23  display-type             828 non-null    object \n",
            " 24  frequency-ghz            364 non-null    float64\n",
            " 25  gpu-brand                699 non-null    object \n",
            " 26  gpu-bus                  2 non-null      float64\n",
            " 27  gpu-cache-mb             1 non-null      float64\n",
            " 28  gpu-freq-mhz             2 non-null      float64\n",
            " 29  gpu-memory-gb            769 non-null    float64\n",
            " 30  gpu-memory-type          86 non-null     object \n",
            " 31  gpu-model                896 non-null    object \n",
            " 32  gpu-watt                 220 non-null    float64\n",
            " 33  has-disk-drive           649 non-null    float64\n",
            " 34  has-jack                 35 non-null     float64\n",
            " 35  has-multi-touch          436 non-null    float64\n",
            " 36  has-security-id          661 non-null    float64\n",
            " 37  has-speaker              736 non-null    float64\n",
            " 38  has-webcam               728 non-null    float64\n",
            " 39  has-wifi                 754 non-null    float64\n",
            " 40  hdmi-has                 740 non-null    float64\n",
            " 41  jack-has                 581 non-null    float64\n",
            " 42  keyboard-has-light       828 non-null    float64\n",
            " 43  keyboard-has-light       3 non-null      float64\n",
            " 44  many                     0 non-null      float64\n",
            " 45  matt-screen-has          464 non-null    float64\n",
            " 46  memory-has-port          47 non-null     float64\n",
            " 47  mini-display-has         66 non-null     float64\n",
            " 48  numpad-has               170 non-null    float64\n",
            " 49  os                       458 non-null    object \n",
            " 50  power-watt               368 non-null    float64\n",
            " 51  price                    1146 non-null   float64\n",
            " 52  ram-freq-mhz             509 non-null    float64\n",
            " 53  ram-gb                   1035 non-null   float64\n",
            " 54  ram-has-upgrade          132 non-null    float64\n",
            " 55  ram-interface            174 non-null    float64\n",
            " 56  ram-type                 803 non-null    object \n",
            " 57  refresh-rate             743 non-null    float64\n",
            " 58  sd-card-has-port         531 non-null    float64\n",
            " 59  size                     38 non-null     float64\n",
            " 60  size-inch                11 non-null     float64\n",
            " 61  size-mm                  959 non-null    float64\n",
            " 62  ssd-port                 42 non-null     float64\n",
            " 63  storage-connection-pcie  198 non-null    float64\n",
            " 64  storage-has-upgrade      314 non-null    float64\n",
            " 65  storage-hdd-gb           500 non-null    float64\n",
            " 66  storage-hdd-tb           1 non-null      float64\n",
            " 67  storage-is-ssd           79 non-null     float64\n",
            " 68  storage-ssd-gb           598 non-null    float64\n",
            " 69  storage-type             310 non-null    object \n",
            " 70  thunderbolt-has          341 non-null    float64\n",
            " 71  title                    1144 non-null   object \n",
            " 72  touch-screen-has         696 non-null    float64\n",
            " 73  usage                    464 non-null    object \n",
            " 74  usb2                     597 non-null    float64\n",
            " 75  usb3                     944 non-null    float64\n",
            " 76  usb4                     36 non-null     float64\n",
            " 77  usbc                     940 non-null    float64\n",
            " 78  weight                   1008 non-null   float64\n",
            " 79  weight-pound             8 non-null      float64\n",
            "dtypes: float64(66), int64(1), object(13)\n",
            "memory usage: 732.6+ KB\n"
          ]
        }
      ]
    },
    {
      "cell_type": "markdown",
      "source": [
        "As we can see, we have some features with very few values and lots of missing values. We tried imputing the missing values by most-frequent strategy or mean-encoding but we got unbalanced data and our model wasn't working perfectly. So we dropped them:"
      ],
      "metadata": {
        "id": "p6Nssd2pLuvc"
      }
    },
    {
      "cell_type": "code",
      "source": [
        "Nan_list = [0,1,2,3,5,12,15,16,17,18,19,20,21,23,24,26,27,28,30,32,33,34,37,38,39,40,41,42,43,44,45,46,47,48,50,52,54,55,56,57,58,62,63,64,67,69,70]\n",
        "new_df.drop(new_df.columns[Nan_list], axis=1, inplace=True)"
      ],
      "metadata": {
        "id": "K-8tZjPNKNkE"
      },
      "execution_count": 86,
      "outputs": []
    },
    {
      "cell_type": "code",
      "source": [
        "new_df.info()"
      ],
      "metadata": {
        "colab": {
          "base_uri": "https://localhost:8080/"
        },
        "id": "ly2s3vcfX6Rl",
        "outputId": "112e0017-2561-4e90-80f8-552898bf61ac"
      },
      "execution_count": 87,
      "outputs": [
        {
          "output_type": "stream",
          "name": "stdout",
          "text": [
            "<class 'pandas.core.frame.DataFrame'>\n",
            "RangeIndex: 1172 entries, 0 to 1171\n",
            "Data columns (total 33 columns):\n",
            " #   Column               Non-Null Count  Dtype  \n",
            "---  ------               --------------  -----  \n",
            " 0   bluetooth            746 non-null    float64\n",
            " 1   clean-cpu-model      0 non-null      float64\n",
            " 2   clean-display-size   0 non-null      float64\n",
            " 3   clean-gpu-memory-gb  0 non-null      float64\n",
            " 4   clean-hdd-gb         0 non-null      float64\n",
            " 5   clean-ram-gb         0 non-null      float64\n",
            " 6   clean-ssd-gb         0 non-null      float64\n",
            " 7   cpu-brand            846 non-null    object \n",
            " 8   cpu-cache-mb         964 non-null    float64\n",
            " 9   display-size         1023 non-null   float64\n",
            " 10  gpu-brand            699 non-null    object \n",
            " 11  gpu-memory-gb        769 non-null    float64\n",
            " 12  gpu-model            896 non-null    object \n",
            " 13  has-multi-touch      436 non-null    float64\n",
            " 14  has-security-id      661 non-null    float64\n",
            " 15  os                   458 non-null    object \n",
            " 16  price                1146 non-null   float64\n",
            " 17  ram-gb               1035 non-null   float64\n",
            " 18  size                 38 non-null     float64\n",
            " 19  size-inch            11 non-null     float64\n",
            " 20  size-mm              959 non-null    float64\n",
            " 21  storage-hdd-gb       500 non-null    float64\n",
            " 22  storage-hdd-tb       1 non-null      float64\n",
            " 23  storage-ssd-gb       598 non-null    float64\n",
            " 24  title                1144 non-null   object \n",
            " 25  touch-screen-has     696 non-null    float64\n",
            " 26  usage                464 non-null    object \n",
            " 27  usb2                 597 non-null    float64\n",
            " 28  usb3                 944 non-null    float64\n",
            " 29  usb4                 36 non-null     float64\n",
            " 30  usbc                 940 non-null    float64\n",
            " 31  weight               1008 non-null   float64\n",
            " 32  weight-pound         8 non-null      float64\n",
            "dtypes: float64(27), object(6)\n",
            "memory usage: 302.3+ KB\n"
          ]
        }
      ]
    },
    {
      "cell_type": "markdown",
      "source": [
        "We didn't use pd.concat to merge the column of clean_df and new_df. Instead, we used combine_first which iterates thorough column and fill each missing value in first column with its correspanding value in second column if it's not null."
      ],
      "metadata": {
        "id": "BzaNhIJoQbPQ"
      }
    },
    {
      "cell_type": "code",
      "source": [
        "new_df['gpu-memory-gb'] = new_df['gpu-memory-gb'].combine_first(clean_df['clean-gpu-memory-gb'])\n",
        "new_df.drop(columns=['clean-gpu-memory-gb'], inplace=True)\n",
        "\n",
        "new_df['storage-hdd-gb'] = new_df['storage-hdd-gb'].combine_first(clean_df['clean-hdd-gb'])\n",
        "new_df.drop(columns=['clean-hdd-gb'], inplace=True)\n",
        "\n",
        "new_df['ram-gb'] = new_df['ram-gb'].combine_first(clean_df['clean-ram-gb'])\n",
        "new_df.drop(columns=['clean-ram-gb'], inplace=True)\n",
        "\n",
        "new_df['storage-ssd-gb'] = new_df['storage-ssd-gb'].combine_first(clean_df['clean-ssd-gb'])\n",
        "new_df.drop(columns=['clean-ssd-gb'], inplace=True)\n",
        "\n",
        "new_df['display-size'] = new_df['display-size'].combine_first(clean_df['clean-display-size'])\n",
        "new_df.drop(columns=['clean-display-size'], inplace=True)"
      ],
      "metadata": {
        "id": "vWhTjhZlQhM5"
      },
      "execution_count": 88,
      "outputs": []
    },
    {
      "cell_type": "code",
      "source": [
        "new_df.drop(columns=['clean-cpu-model'], inplace=True)"
      ],
      "metadata": {
        "id": "O0sQoJhYc2pT"
      },
      "execution_count": 89,
      "outputs": []
    },
    {
      "cell_type": "code",
      "source": [
        "new_df['ram-gb'].fillna(new_df['ram-gb'].mode()[0], inplace=True)\n",
        "new_df['ram-gb'] = new_df['ram-gb'].astype(int)\n",
        "\n",
        "new_df['gpu-memory-gb'].fillna(new_df['gpu-memory-gb'].mode()[0], inplace=True)\n",
        "new_df['gpu-memory-gb'] = new_df['gpu-memory-gb'].astype(int)\n",
        "\n",
        "new_df['cpu-cache-mb'].fillna(new_df['cpu-cache-mb'].mode()[0], inplace=True)\n",
        "new_df['cpu-cache-mb'] = new_df['cpu-cache-mb'].astype(int)"
      ],
      "metadata": {
        "id": "BJjYWIhXSD1u"
      },
      "execution_count": 90,
      "outputs": []
    },
    {
      "cell_type": "markdown",
      "source": [
        "By observing the dataset we can understand that we can replace rtx and gtx type with nvidia type. Also we realize that columns 'gpu-brand' and 'gpu-model' can be merged together. By doing this, we have helped to balance the data in this column.\n",
        "\n"
      ],
      "metadata": {
        "id": "d0Dy0Co5Uzhh"
      }
    },
    {
      "cell_type": "code",
      "source": [
        "new_df['gpu-model'].value_counts()"
      ],
      "metadata": {
        "colab": {
          "base_uri": "https://localhost:8080/"
        },
        "id": "CuO3wpHAUtc6",
        "outputId": "e7c27c00-fefa-4716-e4c6-b925282a151f"
      },
      "execution_count": 91,
      "outputs": [
        {
          "output_type": "execute_result",
          "data": {
            "text/plain": [
              "rtx      444\n",
              "gtx      213\n",
              "intel    163\n",
              "amd       58\n",
              "apple     18\n",
              "Name: gpu-model, dtype: int64"
            ]
          },
          "metadata": {},
          "execution_count": 91
        }
      ]
    },
    {
      "cell_type": "code",
      "source": [
        "new_df['gpu-model'] = new_df['gpu-model'].replace({'rtx': 'nvidia', 'gtx':'nvidia'})\n",
        "\n",
        "new_df['gpu-brand'] = new_df['gpu-brand'].combine_first(new_df['gpu-model'])\n",
        "new_df.drop(columns=['gpu-model'], inplace=True)"
      ],
      "metadata": {
        "id": "4b9Ky3gqRvum"
      },
      "execution_count": 92,
      "outputs": []
    },
    {
      "cell_type": "markdown",
      "source": [
        "We split the numerical and categorical features so we can impute missing values in categorical coolumns with most frequent values or 'Unknown' label."
      ],
      "metadata": {
        "id": "xxe47C94Z63Y"
      }
    },
    {
      "cell_type": "code",
      "source": [
        "numerical_features = new_df.select_dtypes(include='int64').columns\n",
        "numerical_features = new_df.select_dtypes(include='float64').columns\n",
        "categorical_features = new_df.select_dtypes(include='object').columns.tolist()"
      ],
      "metadata": {
        "id": "G5JMtbZm8pRJ"
      },
      "execution_count": 93,
      "outputs": []
    },
    {
      "cell_type": "code",
      "source": [
        "new_df['cpu-brand'] = new_df['cpu-brand'].fillna('intel')\n",
        "new_df['os'] = new_df['os'].fillna('No OS')\n",
        "new_df['usage'] = new_df['usage'].fillna('Unknown')\n",
        "new_df['gpu-brand'] = new_df['gpu-brand'].fillna('Unknown')\n",
        "new_df['title'] = new_df['title'].fillna('Unknown')"
      ],
      "metadata": {
        "id": "GmBw97SYZ7BE"
      },
      "execution_count": 94,
      "outputs": []
    },
    {
      "cell_type": "code",
      "source": [
        "for column in categorical_features:\n",
        "    unique_values = new_df[column].unique()\n",
        "    print(f\"Unique values in column '{column}': {unique_values}\")\n",
        "    print()"
      ],
      "metadata": {
        "colab": {
          "base_uri": "https://localhost:8080/"
        },
        "id": "8XAUh4ct83Jw",
        "outputId": "738048d9-9836-4fa4-975e-c420cbc80852"
      },
      "execution_count": 95,
      "outputs": [
        {
          "output_type": "stream",
          "name": "stdout",
          "text": [
            "Unique values in column 'cpu-brand': ['intel' 'amd']\n",
            "\n",
            "Unique values in column 'gpu-brand': ['nvidia' 'apple' 'intel' 'Unknown' 'amd']\n",
            "\n",
            "Unique values in column 'os': ['No OS' 'mac' 'dos' 'windows']\n",
            "\n",
            "Unique values in column 'title': ['lenovo' 'apple' 'asus' 'hp' 'microsoft' 'dell' 'huawei' 'acer' 'msi'\n",
            " 'samsung' 'Unknown' 'toshiba' 'xiaomi' 'razer' 'sony']\n",
            "\n",
            "Unique values in column 'usage': ['Unknown' 'game' 'media']\n",
            "\n"
          ]
        }
      ]
    },
    {
      "cell_type": "code",
      "source": [
        "from sklearn.manifold import TSNE\n",
        "\n",
        "selected_features = pd.get_dummies(new_df[categorical_features])\n",
        "\n",
        "tsne = TSNE(\n",
        "    n_components=2,\n",
        "    n_iter=500,\n",
        "    n_iter_without_progress=150,\n",
        "    n_jobs=2,\n",
        "    random_state=0,\n",
        ")\n",
        "tsne_result = tsne.fit_transform(selected_features)\n",
        "\n",
        "tsne_df = pd.DataFrame(\n",
        "    np.c_[tsne_result, new_df['price']],\n",
        "    columns=['x', 'y', 'price']\n",
        ")\n",
        "\n",
        "plt.figure(figsize=(8, 5))\n",
        "sns.scatterplot(tsne_df, x=\"x\", y=\"y\", hue=\"price\", s=50, alpha=.8)\n",
        "plt.title('t-SNE Visualization of Categorical Features')\n",
        "plt.show()"
      ],
      "metadata": {
        "colab": {
          "base_uri": "https://localhost:8080/",
          "height": 395
        },
        "id": "K2Y1Ik3cdmAZ",
        "outputId": "45aebc1c-2c4c-4665-ace1-4ec48edd1edf"
      },
      "execution_count": 96,
      "outputs": [
        {
          "output_type": "error",
          "ename": "KeyboardInterrupt",
          "evalue": "ignored",
          "traceback": [
            "\u001b[0;31m---------------------------------------------------------------------------\u001b[0m",
            "\u001b[0;31mKeyboardInterrupt\u001b[0m                         Traceback (most recent call last)",
            "\u001b[0;32m<ipython-input-96-9ec9c2746bfb>\u001b[0m in \u001b[0;36m<cell line: 12>\u001b[0;34m()\u001b[0m\n\u001b[1;32m     10\u001b[0m     \u001b[0mrandom_state\u001b[0m\u001b[0;34m=\u001b[0m\u001b[0;36m0\u001b[0m\u001b[0;34m,\u001b[0m\u001b[0;34m\u001b[0m\u001b[0;34m\u001b[0m\u001b[0m\n\u001b[1;32m     11\u001b[0m )\n\u001b[0;32m---> 12\u001b[0;31m \u001b[0mtsne_result\u001b[0m \u001b[0;34m=\u001b[0m \u001b[0mtsne\u001b[0m\u001b[0;34m.\u001b[0m\u001b[0mfit_transform\u001b[0m\u001b[0;34m(\u001b[0m\u001b[0mselected_features\u001b[0m\u001b[0;34m)\u001b[0m\u001b[0;34m\u001b[0m\u001b[0;34m\u001b[0m\u001b[0m\n\u001b[0m\u001b[1;32m     13\u001b[0m \u001b[0;34m\u001b[0m\u001b[0m\n\u001b[1;32m     14\u001b[0m tsne_df = pd.DataFrame(\n",
            "\u001b[0;32m/usr/local/lib/python3.10/dist-packages/sklearn/manifold/_t_sne.py\u001b[0m in \u001b[0;36mfit_transform\u001b[0;34m(self, X, y)\u001b[0m\n\u001b[1;32m   1117\u001b[0m         \u001b[0mself\u001b[0m\u001b[0;34m.\u001b[0m\u001b[0m_validate_params\u001b[0m\u001b[0;34m(\u001b[0m\u001b[0;34m)\u001b[0m\u001b[0;34m\u001b[0m\u001b[0;34m\u001b[0m\u001b[0m\n\u001b[1;32m   1118\u001b[0m         \u001b[0mself\u001b[0m\u001b[0;34m.\u001b[0m\u001b[0m_check_params_vs_input\u001b[0m\u001b[0;34m(\u001b[0m\u001b[0mX\u001b[0m\u001b[0;34m)\u001b[0m\u001b[0;34m\u001b[0m\u001b[0;34m\u001b[0m\u001b[0m\n\u001b[0;32m-> 1119\u001b[0;31m         \u001b[0membedding\u001b[0m \u001b[0;34m=\u001b[0m \u001b[0mself\u001b[0m\u001b[0;34m.\u001b[0m\u001b[0m_fit\u001b[0m\u001b[0;34m(\u001b[0m\u001b[0mX\u001b[0m\u001b[0;34m)\u001b[0m\u001b[0;34m\u001b[0m\u001b[0;34m\u001b[0m\u001b[0m\n\u001b[0m\u001b[1;32m   1120\u001b[0m         \u001b[0mself\u001b[0m\u001b[0;34m.\u001b[0m\u001b[0membedding_\u001b[0m \u001b[0;34m=\u001b[0m \u001b[0membedding\u001b[0m\u001b[0;34m\u001b[0m\u001b[0;34m\u001b[0m\u001b[0m\n\u001b[1;32m   1121\u001b[0m         \u001b[0;32mreturn\u001b[0m \u001b[0mself\u001b[0m\u001b[0;34m.\u001b[0m\u001b[0membedding_\u001b[0m\u001b[0;34m\u001b[0m\u001b[0;34m\u001b[0m\u001b[0m\n",
            "\u001b[0;32m/usr/local/lib/python3.10/dist-packages/sklearn/manifold/_t_sne.py\u001b[0m in \u001b[0;36m_fit\u001b[0;34m(self, X, skip_num_points)\u001b[0m\n\u001b[1;32m   1010\u001b[0m         \u001b[0mdegrees_of_freedom\u001b[0m \u001b[0;34m=\u001b[0m \u001b[0mmax\u001b[0m\u001b[0;34m(\u001b[0m\u001b[0mself\u001b[0m\u001b[0;34m.\u001b[0m\u001b[0mn_components\u001b[0m \u001b[0;34m-\u001b[0m \u001b[0;36m1\u001b[0m\u001b[0;34m,\u001b[0m \u001b[0;36m1\u001b[0m\u001b[0;34m)\u001b[0m\u001b[0;34m\u001b[0m\u001b[0;34m\u001b[0m\u001b[0m\n\u001b[1;32m   1011\u001b[0m \u001b[0;34m\u001b[0m\u001b[0m\n\u001b[0;32m-> 1012\u001b[0;31m         return self._tsne(\n\u001b[0m\u001b[1;32m   1013\u001b[0m             \u001b[0mP\u001b[0m\u001b[0;34m,\u001b[0m\u001b[0;34m\u001b[0m\u001b[0;34m\u001b[0m\u001b[0m\n\u001b[1;32m   1014\u001b[0m             \u001b[0mdegrees_of_freedom\u001b[0m\u001b[0;34m,\u001b[0m\u001b[0;34m\u001b[0m\u001b[0;34m\u001b[0m\u001b[0m\n",
            "\u001b[0;32m/usr/local/lib/python3.10/dist-packages/sklearn/manifold/_t_sne.py\u001b[0m in \u001b[0;36m_tsne\u001b[0;34m(self, P, degrees_of_freedom, n_samples, X_embedded, neighbors, skip_num_points)\u001b[0m\n\u001b[1;32m   1062\u001b[0m         \u001b[0;31m# higher learning rate controlled via the early exaggeration parameter\u001b[0m\u001b[0;34m\u001b[0m\u001b[0;34m\u001b[0m\u001b[0m\n\u001b[1;32m   1063\u001b[0m         \u001b[0mP\u001b[0m \u001b[0;34m*=\u001b[0m \u001b[0mself\u001b[0m\u001b[0;34m.\u001b[0m\u001b[0mearly_exaggeration\u001b[0m\u001b[0;34m\u001b[0m\u001b[0;34m\u001b[0m\u001b[0m\n\u001b[0;32m-> 1064\u001b[0;31m         \u001b[0mparams\u001b[0m\u001b[0;34m,\u001b[0m \u001b[0mkl_divergence\u001b[0m\u001b[0;34m,\u001b[0m \u001b[0mit\u001b[0m \u001b[0;34m=\u001b[0m \u001b[0m_gradient_descent\u001b[0m\u001b[0;34m(\u001b[0m\u001b[0mobj_func\u001b[0m\u001b[0;34m,\u001b[0m \u001b[0mparams\u001b[0m\u001b[0;34m,\u001b[0m \u001b[0;34m**\u001b[0m\u001b[0mopt_args\u001b[0m\u001b[0;34m)\u001b[0m\u001b[0;34m\u001b[0m\u001b[0;34m\u001b[0m\u001b[0m\n\u001b[0m\u001b[1;32m   1065\u001b[0m         \u001b[0;32mif\u001b[0m \u001b[0mself\u001b[0m\u001b[0;34m.\u001b[0m\u001b[0mverbose\u001b[0m\u001b[0;34m:\u001b[0m\u001b[0;34m\u001b[0m\u001b[0;34m\u001b[0m\u001b[0m\n\u001b[1;32m   1066\u001b[0m             print(\n",
            "\u001b[0;32m/usr/local/lib/python3.10/dist-packages/sklearn/manifold/_t_sne.py\u001b[0m in \u001b[0;36m_gradient_descent\u001b[0;34m(objective, p0, it, n_iter, n_iter_check, n_iter_without_progress, momentum, learning_rate, min_gain, min_grad_norm, verbose, args, kwargs)\u001b[0m\n\u001b[1;32m    397\u001b[0m         \u001b[0mkwargs\u001b[0m\u001b[0;34m[\u001b[0m\u001b[0;34m\"compute_error\"\u001b[0m\u001b[0;34m]\u001b[0m \u001b[0;34m=\u001b[0m \u001b[0mcheck_convergence\u001b[0m \u001b[0;32mor\u001b[0m \u001b[0mi\u001b[0m \u001b[0;34m==\u001b[0m \u001b[0mn_iter\u001b[0m \u001b[0;34m-\u001b[0m \u001b[0;36m1\u001b[0m\u001b[0;34m\u001b[0m\u001b[0;34m\u001b[0m\u001b[0m\n\u001b[1;32m    398\u001b[0m \u001b[0;34m\u001b[0m\u001b[0m\n\u001b[0;32m--> 399\u001b[0;31m         \u001b[0merror\u001b[0m\u001b[0;34m,\u001b[0m \u001b[0mgrad\u001b[0m \u001b[0;34m=\u001b[0m \u001b[0mobjective\u001b[0m\u001b[0;34m(\u001b[0m\u001b[0mp\u001b[0m\u001b[0;34m,\u001b[0m \u001b[0;34m*\u001b[0m\u001b[0margs\u001b[0m\u001b[0;34m,\u001b[0m \u001b[0;34m**\u001b[0m\u001b[0mkwargs\u001b[0m\u001b[0;34m)\u001b[0m\u001b[0;34m\u001b[0m\u001b[0;34m\u001b[0m\u001b[0m\n\u001b[0m\u001b[1;32m    400\u001b[0m \u001b[0;34m\u001b[0m\u001b[0m\n\u001b[1;32m    401\u001b[0m         \u001b[0minc\u001b[0m \u001b[0;34m=\u001b[0m \u001b[0mupdate\u001b[0m \u001b[0;34m*\u001b[0m \u001b[0mgrad\u001b[0m \u001b[0;34m<\u001b[0m \u001b[0;36m0.0\u001b[0m\u001b[0;34m\u001b[0m\u001b[0;34m\u001b[0m\u001b[0m\n",
            "\u001b[0;32m/usr/local/lib/python3.10/dist-packages/sklearn/manifold/_t_sne.py\u001b[0m in \u001b[0;36m_kl_divergence_bh\u001b[0;34m(params, P, degrees_of_freedom, n_samples, n_components, angle, skip_num_points, verbose, compute_error, num_threads)\u001b[0m\n\u001b[1;32m    278\u001b[0m \u001b[0;34m\u001b[0m\u001b[0m\n\u001b[1;32m    279\u001b[0m     \u001b[0mgrad\u001b[0m \u001b[0;34m=\u001b[0m \u001b[0mnp\u001b[0m\u001b[0;34m.\u001b[0m\u001b[0mzeros\u001b[0m\u001b[0;34m(\u001b[0m\u001b[0mX_embedded\u001b[0m\u001b[0;34m.\u001b[0m\u001b[0mshape\u001b[0m\u001b[0;34m,\u001b[0m \u001b[0mdtype\u001b[0m\u001b[0;34m=\u001b[0m\u001b[0mnp\u001b[0m\u001b[0;34m.\u001b[0m\u001b[0mfloat32\u001b[0m\u001b[0;34m)\u001b[0m\u001b[0;34m\u001b[0m\u001b[0;34m\u001b[0m\u001b[0m\n\u001b[0;32m--> 280\u001b[0;31m     error = _barnes_hut_tsne.gradient(\n\u001b[0m\u001b[1;32m    281\u001b[0m         \u001b[0mval_P\u001b[0m\u001b[0;34m,\u001b[0m\u001b[0;34m\u001b[0m\u001b[0;34m\u001b[0m\u001b[0m\n\u001b[1;32m    282\u001b[0m         \u001b[0mX_embedded\u001b[0m\u001b[0;34m,\u001b[0m\u001b[0;34m\u001b[0m\u001b[0;34m\u001b[0m\u001b[0m\n",
            "\u001b[0;31mKeyboardInterrupt\u001b[0m: "
          ]
        }
      ]
    },
    {
      "cell_type": "code",
      "source": [
        "new_df.value_counts('title').plot(kind='pie')"
      ],
      "metadata": {
        "colab": {
          "base_uri": "https://localhost:8080/",
          "height": 423
        },
        "id": "U8IQ7TBpevVr",
        "outputId": "a9e8f980-37cd-4d3b-ea72-edaff3aa6d6f"
      },
      "execution_count": null,
      "outputs": [
        {
          "output_type": "execute_result",
          "data": {
            "text/plain": [
              "<Axes: >"
            ]
          },
          "metadata": {},
          "execution_count": 38
        },
        {
          "output_type": "display_data",
          "data": {
            "text/plain": [
              "<Figure size 640x480 with 1 Axes>"
            ],
            "image/png": "[encoded data removed]"
          },
          "metadata": {}
        }
      ]
    },
    {
      "cell_type": "code",
      "source": [
        "new_df[\"title\"].value_counts().plot(kind=\"bar\")"
      ],
      "metadata": {
        "colab": {
          "base_uri": "https://localhost:8080/",
          "height": 498
        },
        "id": "n_YVBafEe7z4",
        "outputId": "a8c0dc06-75de-4542-afe2-79215f1a5551"
      },
      "execution_count": null,
      "outputs": [
        {
          "output_type": "execute_result",
          "data": {
            "text/plain": [
              "<Axes: >"
            ]
          },
          "metadata": {},
          "execution_count": 39
        },
        {
          "output_type": "display_data",
          "data": {
            "text/plain": [
              "<Figure size 640x480 with 1 Axes>"
            ],
            "image/png": "[encoded data removed]"
          },
          "metadata": {}
        }
      ]
    },
    {
      "cell_type": "code",
      "source": [
        "sns.barplot(x=new_df[\"title\"],y=new_df[\"price\"])\n",
        "plt.xticks(rotation=\"vertical\")\n",
        "plt.show()"
      ],
      "metadata": {
        "colab": {
          "base_uri": "https://localhost:8080/",
          "height": 515
        },
        "id": "wxF4ZupIe9yt",
        "outputId": "5b1f59f4-cba2-4a5b-ec80-0083c8f12f05"
      },
      "execution_count": null,
      "outputs": [
        {
          "output_type": "display_data",
          "data": {
            "text/plain": [
              "<Figure size 640x480 with 1 Axes>"
            ],
            "image/png": "[encoded data removed]"
          },
          "metadata": {}
        }
      ]
    },
    {
      "cell_type": "code",
      "source": [
        "new_df.value_counts('usage').plot(kind='pie')"
      ],
      "metadata": {
        "colab": {
          "base_uri": "https://localhost:8080/",
          "height": 423
        },
        "outputId": "b0ea117a-a0ca-441a-f167-2a27582adc4b",
        "id": "qUNZt2WmfCG6"
      },
      "execution_count": null,
      "outputs": [
        {
          "output_type": "execute_result",
          "data": {
            "text/plain": [
              "<Axes: >"
            ]
          },
          "metadata": {},
          "execution_count": 41
        },
        {
          "output_type": "display_data",
          "data": {
            "text/plain": [
              "<Figure size 640x480 with 1 Axes>"
            ],
            "image/png": "[encoded data removed]"
          },
          "metadata": {}
        }
      ]
    },
    {
      "cell_type": "code",
      "source": [
        "new_df[\"usage\"].value_counts().plot(kind=\"bar\")"
      ],
      "metadata": {
        "colab": {
          "base_uri": "https://localhost:8080/",
          "height": 497
        },
        "outputId": "943ff869-47d6-451f-8c64-679293fa0fb8",
        "id": "EylwN4xcfCG7"
      },
      "execution_count": null,
      "outputs": [
        {
          "output_type": "execute_result",
          "data": {
            "text/plain": [
              "<Axes: >"
            ]
          },
          "metadata": {},
          "execution_count": 42
        },
        {
          "output_type": "display_data",
          "data": {
            "text/plain": [
              "<Figure size 640x480 with 1 Axes>"
            ],
            "image/png": "[encoded data removed]"
          },
          "metadata": {}
        }
      ]
    },
    {
      "cell_type": "code",
      "source": [
        "sns.barplot(x=new_df[\"usage\"],y=new_df[\"price\"])\n",
        "plt.xticks(rotation=\"vertical\")\n",
        "plt.show()"
      ],
      "metadata": {
        "colab": {
          "base_uri": "https://localhost:8080/",
          "height": 515
        },
        "outputId": "c9bf8e08-ac62-4f39-b63f-0f7d765fbee0",
        "id": "GuUpetojfCG8"
      },
      "execution_count": 97,
      "outputs": [
        {
          "output_type": "display_data",
          "data": {
            "text/plain": [
              "<Figure size 640x480 with 1 Axes>"
            ],
            "image/png": "[encoded data removed]"
          },
          "metadata": {}
        }
      ]
    },
    {
      "cell_type": "markdown",
      "source": [
        "In column 'storage-hdd-tb' we only have one value. we convert it to gb, merge it with 'storage-hdd-gb' and drop this column."
      ],
      "metadata": {
        "id": "YqS_mHd4V6ZK"
      }
    },
    {
      "cell_type": "code",
      "source": [
        "new_df['storage-hdd-tb'] = new_df['storage-hdd-tb'] * 1000\n",
        "new_df['storage-hdd-gb'] = new_df['storage-hdd-gb'].combine_first(new_df['storage-hdd-tb'])\n",
        "new_df.drop(columns=['storage-hdd-tb'], inplace=True)"
      ],
      "metadata": {
        "id": "dB7zNLIzPG6F"
      },
      "execution_count": 98,
      "outputs": []
    },
    {
      "cell_type": "code",
      "source": [
        "new_df['storage-hdd-gb'] = new_df['storage-hdd-gb'].fillna(0)\n",
        "new_df['storage-ssd-gb'] = new_df['storage-ssd-gb'].fillna(0)"
      ],
      "metadata": {
        "id": "9P2-bdAUYiOu"
      },
      "execution_count": 99,
      "outputs": []
    },
    {
      "cell_type": "code",
      "source": [
        "sns.barplot(x=new_df[\"cpu-cache-mb\"],y=new_df[\"price\"])"
      ],
      "metadata": {
        "colab": {
          "base_uri": "https://localhost:8080/",
          "height": 482
        },
        "id": "B-lJlWAOdeOF",
        "outputId": "aae042ae-d7eb-4fd9-f395-6a9486d04c6f"
      },
      "execution_count": null,
      "outputs": [
        {
          "output_type": "execute_result",
          "data": {
            "text/plain": [
              "<Axes: xlabel='cpu-cache-mb', ylabel='price'>"
            ]
          },
          "metadata": {},
          "execution_count": 46
        },
        {
          "output_type": "display_data",
          "data": {
            "text/plain": [
              "<Figure size 640x480 with 1 Axes>"
            ],
            "image/png": "[encoded data removed]"
          },
          "metadata": {}
        }
      ]
    },
    {
      "cell_type": "code",
      "source": [
        "sns.barplot(x=new_df[\"gpu-memory-gb\"],y=new_df[\"price\"])"
      ],
      "metadata": {
        "colab": {
          "base_uri": "https://localhost:8080/",
          "height": 482
        },
        "id": "kop8Axdtdhf3",
        "outputId": "9c0c4687-b90d-4658-915f-f25b8e53e295"
      },
      "execution_count": null,
      "outputs": [
        {
          "output_type": "execute_result",
          "data": {
            "text/plain": [
              "<Axes: xlabel='gpu-memory-gb', ylabel='price'>"
            ]
          },
          "metadata": {},
          "execution_count": 47
        },
        {
          "output_type": "display_data",
          "data": {
            "text/plain": [
              "<Figure size 640x480 with 1 Axes>"
            ],
            "image/png": "[encoded data removed]"
          },
          "metadata": {}
        }
      ]
    },
    {
      "cell_type": "markdown",
      "source": [
        "We delete records that have missing value in price column."
      ],
      "metadata": {
        "id": "7fVE7ODRWMJg"
      }
    },
    {
      "cell_type": "code",
      "source": [
        "new_df = new_df.dropna(subset=['price'])\n",
        "new_df['price'] = new_df['price'] / 10e6"
      ],
      "metadata": {
        "id": "IBO8n3Rm7zu7"
      },
      "execution_count": 100,
      "outputs": []
    },
    {
      "cell_type": "code",
      "source": [
        "sns.histplot(new_df['price'],color='blue')"
      ],
      "metadata": {
        "colab": {
          "base_uri": "https://localhost:8080/",
          "height": 467
        },
        "id": "pUM0ZX3pdmKX",
        "outputId": "9b36cf7e-9ec2-4171-ee7a-fbe96962a4c7"
      },
      "execution_count": 101,
      "outputs": [
        {
          "output_type": "execute_result",
          "data": {
            "text/plain": [
              "<Axes: xlabel='price', ylabel='Count'>"
            ]
          },
          "metadata": {},
          "execution_count": 101
        },
        {
          "output_type": "display_data",
          "data": {
            "text/plain": [
              "<Figure size 640x480 with 1 Axes>"
            ],
            "image/png": "[encoded data removed]"
          },
          "metadata": {}
        }
      ]
    },
    {
      "cell_type": "code",
      "source": [
        "sns.distplot(new_df['price'])\n",
        "plt.show()"
      ],
      "metadata": {
        "colab": {
          "base_uri": "https://localhost:8080/",
          "height": 449
        },
        "id": "TZn4_szgrSH8",
        "outputId": "d426f3c4-adfc-4205-ca7b-6ca363a5c999"
      },
      "execution_count": 102,
      "outputs": [
        {
          "output_type": "display_data",
          "data": {
            "text/plain": [
              "<Figure size 640x480 with 1 Axes>"
            ],
            "image/png": "[encoded data removed]"
          },
          "metadata": {}
        }
      ]
    },
    {
      "cell_type": "code",
      "source": [
        "sns.distplot(np.log(new_df['price']))\n",
        "plt.show()"
      ],
      "metadata": {
        "colab": {
          "base_uri": "https://localhost:8080/",
          "height": 449
        },
        "id": "roNUNqpfs6IX",
        "outputId": "6d2cc118-fba2-4d2a-dfc0-3dfd62bd003c"
      },
      "execution_count": 40,
      "outputs": [
        {
          "output_type": "display_data",
          "data": {
            "text/plain": [
              "<Figure size 640x480 with 1 Axes>"
            ],
            "image/png": "[encoded data removed]"
          },
          "metadata": {}
        }
      ]
    },
    {
      "cell_type": "markdown",
      "source": [
        "These columns show number of each kind of ports. We fill the missing values with 0. collect them all and put sum of them in a a new column called 'usb-ports' which shows number of all usb ports a laptop has."
      ],
      "metadata": {
        "id": "vUhclAMiWlF_"
      }
    },
    {
      "cell_type": "code",
      "source": [
        "Nan_list = ['usb2', 'usb3', 'usb4', 'usbc']\n",
        "for Columns in Nan_list:\n",
        "  new_df[Columns] = new_df[Columns].fillna(0)\n",
        "\n",
        "new_df[['usb2', 'usb3', 'usb4', 'usbc']] = new_df[['usb2', 'usb3', 'usb4', 'usbc']].astype(int)\n",
        "new_df['usb-ports'] = new_df['usb2'] + new_df['usb3'] + new_df['usb4'] + new_df['usbc']\n",
        "new_df['usb-ports'] = new_df['usb-ports'].fillna(0)\n",
        "new_df.drop(columns=['usb2', 'usb3','usb4', 'usbc'], inplace=True)"
      ],
      "metadata": {
        "id": "DYwfMGgDH-sE"
      },
      "execution_count": 103,
      "outputs": []
    },
    {
      "cell_type": "markdown",
      "source": [
        "We have a column called 'weight-pound' but it has lots of missing values. we do the same thing about this one as we did before for 'storage-hdd-tb'."
      ],
      "metadata": {
        "id": "z4XD-_NLXLH5"
      }
    },
    {
      "cell_type": "code",
      "source": [
        "conversion_factor = 0.45\n",
        "new_df['weight-pound'] = new_df['weight-pound'] * 0.45\n",
        "\n",
        "new_df['weight-kg'] = new_df['weight'].combine_first(new_df['weight-pound'])\n",
        "new_df.drop(columns=['weight-pound'], inplace=True)"
      ],
      "metadata": {
        "id": "gLgrKmiGKG3-"
      },
      "execution_count": 104,
      "outputs": []
    },
    {
      "cell_type": "code",
      "source": [
        "new_df.drop(columns=['weight'], inplace=True)"
      ],
      "metadata": {
        "id": "PBE25LBlKrpZ"
      },
      "execution_count": 105,
      "outputs": []
    },
    {
      "cell_type": "code",
      "source": [
        "new_df.info()"
      ],
      "metadata": {
        "colab": {
          "base_uri": "https://localhost:8080/"
        },
        "id": "mhPcuIL_awc6",
        "outputId": "6bed211d-bc7d-4bf9-f4cc-80215a5b458e"
      },
      "execution_count": 106,
      "outputs": [
        {
          "output_type": "stream",
          "name": "stdout",
          "text": [
            "<class 'pandas.core.frame.DataFrame'>\n",
            "Int64Index: 1146 entries, 0 to 1171\n",
            "Data columns (total 21 columns):\n",
            " #   Column            Non-Null Count  Dtype  \n",
            "---  ------            --------------  -----  \n",
            " 0   bluetooth         738 non-null    float64\n",
            " 1   cpu-brand         1146 non-null   object \n",
            " 2   cpu-cache-mb      1146 non-null   int64  \n",
            " 3   display-size      1012 non-null   float64\n",
            " 4   gpu-brand         1146 non-null   object \n",
            " 5   gpu-memory-gb     1146 non-null   int64  \n",
            " 6   has-multi-touch   430 non-null    float64\n",
            " 7   has-security-id   651 non-null    float64\n",
            " 8   os                1146 non-null   object \n",
            " 9   price             1146 non-null   float64\n",
            " 10  ram-gb            1146 non-null   int64  \n",
            " 11  size              38 non-null     float64\n",
            " 12  size-inch         11 non-null     float64\n",
            " 13  size-mm           948 non-null    float64\n",
            " 14  storage-hdd-gb    1146 non-null   float64\n",
            " 15  storage-ssd-gb    1146 non-null   float64\n",
            " 16  title             1146 non-null   object \n",
            " 17  touch-screen-has  687 non-null    float64\n",
            " 18  usage             1146 non-null   object \n",
            " 19  usb-ports         1146 non-null   int64  \n",
            " 20  weight-kg         1004 non-null   float64\n",
            "dtypes: float64(12), int64(4), object(5)\n",
            "memory usage: 197.0+ KB\n"
          ]
        }
      ]
    },
    {
      "cell_type": "markdown",
      "source": [
        "The laptops with weight above 5kg, have a wrong unit of gram. We convert the unit here."
      ],
      "metadata": {
        "id": "0tWJeiZR0M_L"
      }
    },
    {
      "cell_type": "code",
      "source": [
        "new_df.loc[new_df['weight-kg'] > 5, 'weight-kg'] = new_df['weight-kg'] / 1000"
      ],
      "metadata": {
        "id": "oSB5CDFo0AjK"
      },
      "execution_count": 107,
      "outputs": []
    },
    {
      "cell_type": "code",
      "source": [
        "sns.distplot(x=new_df[\"weight-kg\"])"
      ],
      "metadata": {
        "colab": {
          "base_uri": "https://localhost:8080/",
          "height": 448
        },
        "id": "5BYMgKsjfNUR",
        "outputId": "177d6c4f-0c92-4873-f030-e1127ee99824"
      },
      "execution_count": 108,
      "outputs": [
        {
          "output_type": "execute_result",
          "data": {
            "text/plain": [
              "<Axes: ylabel='Density'>"
            ]
          },
          "metadata": {},
          "execution_count": 108
        },
        {
          "output_type": "display_data",
          "data": {
            "text/plain": [
              "<Figure size 640x480 with 1 Axes>"
            ],
            "image/png": "[encoded data removed]"
          },
          "metadata": {}
        }
      ]
    },
    {
      "cell_type": "code",
      "source": [
        "sns.scatterplot(x=\"weight-kg\",y=\"price\",data=new_df)"
      ],
      "metadata": {
        "colab": {
          "base_uri": "https://localhost:8080/",
          "height": 467
        },
        "id": "1bgQeMUjfRSj",
        "outputId": "8d3c74b0-b42e-4b70-8aba-3e002d245003"
      },
      "execution_count": 109,
      "outputs": [
        {
          "output_type": "execute_result",
          "data": {
            "text/plain": [
              "<Axes: xlabel='weight-kg', ylabel='price'>"
            ]
          },
          "metadata": {},
          "execution_count": 109
        },
        {
          "output_type": "display_data",
          "data": {
            "text/plain": [
              "<Figure size 640x480 with 1 Axes>"
            ],
            "image/png": "[encoded data removed]"
          },
          "metadata": {}
        }
      ]
    },
    {
      "cell_type": "markdown",
      "source": [
        "We have a column called 'size-mm' but it has lots of missing values. we do the same thing about this one as we did before for 'storage-hdd-tb' and 'weight-pound'. Convert mm to inches and merge columns."
      ],
      "metadata": {
        "id": "WNduQd4lXlYr"
      }
    },
    {
      "cell_type": "code",
      "source": [
        "new_df['size'] = new_df['size'].combine_first(new_df['size-inch'])\n",
        "new_df.drop(columns=['size-inch'], inplace=True)"
      ],
      "metadata": {
        "id": "SJBkWQa6YH4Z"
      },
      "execution_count": 110,
      "outputs": []
    },
    {
      "cell_type": "code",
      "source": [
        "new_df['size-mm'] = new_df['size-mm'] / 25.4\n",
        "new_df['size-mm'] = new_df['size-mm'].round(2)\n",
        "\n",
        "new_df['size'] = new_df['size'].combine_first(new_df['size-mm'])\n",
        "new_df.drop(columns=['size-mm'], inplace=True)"
      ],
      "metadata": {
        "id": "yhrtnBGRLS0c"
      },
      "execution_count": 111,
      "outputs": []
    },
    {
      "cell_type": "code",
      "source": [
        "new_df['size'] = new_df['size'].combine_first(new_df['display-size'])\n",
        "new_df.drop(columns=['display-size'], inplace=True)"
      ],
      "metadata": {
        "id": "REpvJzrd-IlR"
      },
      "execution_count": 112,
      "outputs": []
    },
    {
      "cell_type": "code",
      "source": [
        "sns.scatterplot(x=\"size\",y=\"price\",data=new_df)"
      ],
      "metadata": {
        "colab": {
          "base_uri": "https://localhost:8080/",
          "height": 467
        },
        "id": "vZSV7XYdfaBx",
        "outputId": "8e52f742-a52a-4ab9-9435-6ad25e060bfc"
      },
      "execution_count": 125,
      "outputs": [
        {
          "output_type": "execute_result",
          "data": {
            "text/plain": [
              "<Axes: xlabel='size', ylabel='price'>"
            ]
          },
          "metadata": {},
          "execution_count": 125
        },
        {
          "output_type": "display_data",
          "data": {
            "text/plain": [
              "<Figure size 640x480 with 1 Axes>"
            ],
            "image/png": "[encoded data removed]"
          },
          "metadata": {}
        }
      ]
    },
    {
      "cell_type": "markdown",
      "source": [
        "All the columns that have 'has' in their name is boolean. We consider these columns with 0 as false and  as true."
      ],
      "metadata": {
        "id": "EzLzu6WIYSR6"
      }
    },
    {
      "cell_type": "code",
      "source": [
        "new_df['bluetooth'] = new_df['bluetooth'].fillna(0)\n",
        "\n",
        "has_columns = [col for col in new_df.columns if 'has' in col]\n",
        "new_df[has_columns] = new_df[has_columns].fillna(0)"
      ],
      "metadata": {
        "id": "PLqvAQlMMYzK"
      },
      "execution_count": 114,
      "outputs": []
    },
    {
      "cell_type": "code",
      "source": [
        "new_df['bluetooth'] = new_df['bluetooth'].astype(int)\n",
        "for column in has_columns:\n",
        "        new_df[column] = new_df[column].astype(int)"
      ],
      "metadata": {
        "id": "wy8oqb73PYzq"
      },
      "execution_count": 115,
      "outputs": []
    },
    {
      "cell_type": "code",
      "source": [
        "new_df[\"touch-screen-has\"].value_counts().plot(kind=\"bar\")"
      ],
      "metadata": {
        "colab": {
          "base_uri": "https://localhost:8080/",
          "height": 443
        },
        "id": "qTg84IswdVpi",
        "outputId": "dfabe199-99b4-4fcd-f2fa-0f44817a2577"
      },
      "execution_count": 54,
      "outputs": [
        {
          "output_type": "execute_result",
          "data": {
            "text/plain": [
              "<Axes: >"
            ]
          },
          "metadata": {},
          "execution_count": 54
        },
        {
          "output_type": "display_data",
          "data": {
            "text/plain": [
              "<Figure size 640x480 with 1 Axes>"
            ],
            "image/png": "[encoded data removed]"
          },
          "metadata": {}
        }
      ]
    },
    {
      "cell_type": "code",
      "source": [
        "sns.barplot(x=new_df[\"touch-screen-has\"],y=new_df[\"price\"])"
      ],
      "metadata": {
        "colab": {
          "base_uri": "https://localhost:8080/",
          "height": 471
        },
        "id": "DgZP0M4qdYZl",
        "outputId": "95faaaac-474c-4180-9aa1-27b76d202a62"
      },
      "execution_count": null,
      "outputs": [
        {
          "output_type": "execute_result",
          "data": {
            "text/plain": [
              "<Axes: xlabel='touch-screen-has', ylabel='price'>"
            ]
          },
          "metadata": {},
          "execution_count": 62
        },
        {
          "output_type": "display_data",
          "data": {
            "text/plain": [
              "<Figure size 640x480 with 1 Axes>"
            ],
            "image/png": "[encoded data removed]"
          },
          "metadata": {}
        }
      ]
    },
    {
      "cell_type": "markdown",
      "source": [
        "We fill missing values in 'size' and 'weight-kg' columns using mean-enconding."
      ],
      "metadata": {
        "id": "1kHaOgysZUfT"
      }
    },
    {
      "cell_type": "code",
      "source": [
        "num_mean = ['size', 'weight-kg']\n",
        "for column in num_mean:\n",
        "    mean_value = new_df[column].mean()\n",
        "    new_df[column].fillna(mean_value, inplace=True)"
      ],
      "metadata": {
        "id": "EaUnIKVGcHpD"
      },
      "execution_count": 116,
      "outputs": []
    },
    {
      "cell_type": "markdown",
      "source": [
        "Then by using value_counts() we realize that we have some unbalanced values within our data. The divide_values method is for this matter."
      ],
      "metadata": {
        "id": "7jo0ftnxZpae"
      }
    },
    {
      "cell_type": "code",
      "source": [
        "new_df['size'].value_counts()"
      ],
      "metadata": {
        "id": "0SLfsN3wbsRn",
        "colab": {
          "base_uri": "https://localhost:8080/"
        },
        "outputId": "363ce11f-a805-451a-a1a1-f3552c93351d"
      },
      "execution_count": 124,
      "outputs": [
        {
          "output_type": "execute_result",
          "data": {
            "text/plain": [
              "14    334\n",
              "13    128\n",
              "15    124\n",
              "10     88\n",
              "1      82\n",
              "12     79\n",
              "16     48\n",
              "0      45\n",
              "36     39\n",
              "20     31\n",
              "11     28\n",
              "24     26\n",
              "32     15\n",
              "2      13\n",
              "3      13\n",
              "17      7\n",
              "91      7\n",
              "28      5\n",
              "60      4\n",
              "59      3\n",
              "71      2\n",
              "4       2\n",
              "9       2\n",
              "43      2\n",
              "48      2\n",
              "95      2\n",
              "18      2\n",
              "19      1\n",
              "93      1\n",
              "52      1\n",
              "22      1\n",
              "61      1\n",
              "39      1\n",
              "80      1\n",
              "53      1\n",
              "70      1\n",
              "44      1\n",
              "7       1\n",
              "31      1\n",
              "29      1\n",
              "Name: size, dtype: int64"
            ]
          },
          "metadata": {},
          "execution_count": 124
        }
      ]
    },
    {
      "cell_type": "code",
      "source": [
        "def divide_values(value):\n",
        "    if value > 100:\n",
        "        return int(value / 100)\n",
        "    else:\n",
        "        return int(value)\n",
        "\n",
        "new_df['size'] = new_df['size'].apply(divide_values)"
      ],
      "metadata": {
        "id": "K1rrKlK3fwnT"
      },
      "execution_count": 123,
      "outputs": []
    },
    {
      "cell_type": "code",
      "source": [
        "new_df['weight-kg'] = new_df['weight-kg'].round(2)\n",
        "new_df['weight-kg'] = new_df['weight-kg'].replace({0:4})\n",
        "new_df[\"weight-kg\"].value_counts()"
      ],
      "metadata": {
        "id": "4NwmLGXBcFqo",
        "colab": {
          "base_uri": "https://localhost:8080/"
        },
        "outputId": "f213a02c-6388-4d08-c4f8-d035ab71b7df"
      },
      "execution_count": 126,
      "outputs": [
        {
          "output_type": "execute_result",
          "data": {
            "text/plain": [
              "1.96    142\n",
              "1.80     98\n",
              "1.70     82\n",
              "2.30     81\n",
              "2.00     66\n",
              "       ... \n",
              "3.51      1\n",
              "0.51      1\n",
              "1.87      1\n",
              "1.99      1\n",
              "2.21      1\n",
              "Name: weight-kg, Length: 122, dtype: int64"
            ]
          },
          "metadata": {},
          "execution_count": 126
        }
      ]
    },
    {
      "cell_type": "code",
      "source": [
        "new_df['weight-kg'] = new_df['weight-kg'].apply(divide_values)"
      ],
      "metadata": {
        "id": "Fxcs9TcScXSW"
      },
      "execution_count": null,
      "outputs": []
    },
    {
      "cell_type": "markdown",
      "source": [
        "By using correlation we can find out which columns have the least impact on our target so we can remove them."
      ],
      "metadata": {
        "id": "BbYDTFdZeAI2"
      }
    },
    {
      "cell_type": "code",
      "source": [
        "new_df.corr()['price']"
      ],
      "metadata": {
        "colab": {
          "base_uri": "https://localhost:8080/"
        },
        "id": "n0ka6Md9drPN",
        "outputId": "020e3d8f-7d85-4408-d926-ebed0fb0a134"
      },
      "execution_count": 130,
      "outputs": [
        {
          "output_type": "execute_result",
          "data": {
            "text/plain": [
              "bluetooth          0.040247\n",
              "cpu-cache-mb       0.225870\n",
              "has-multi-touch   -0.091269\n",
              "has-security-id    0.017470\n",
              "price              1.000000\n",
              "ram-gb             0.379062\n",
              "size              -0.035705\n",
              "usb-ports          0.052904\n",
              "weight-kg          0.196571\n",
              "Name: price, dtype: float64"
            ]
          },
          "metadata": {},
          "execution_count": 130
        }
      ]
    },
    {
      "cell_type": "code",
      "source": [
        "new_df.drop(columns=['gpu-memory-gb','storage-hdd-gb','storage-ssd-gb','touch-screen-has',],inplace=True)"
      ],
      "metadata": {
        "id": "idaAxeUweDXZ"
      },
      "execution_count": 128,
      "outputs": []
    },
    {
      "cell_type": "code",
      "source": [
        "sns.heatmap(new_df.corr())"
      ],
      "metadata": {
        "colab": {
          "base_uri": "https://localhost:8080/",
          "height": 548
        },
        "id": "85vyeHx_eZLi",
        "outputId": "1580c322-a202-4002-a100-7064628b4f0e"
      },
      "execution_count": 129,
      "outputs": [
        {
          "output_type": "execute_result",
          "data": {
            "text/plain": [
              "<Axes: >"
            ]
          },
          "metadata": {},
          "execution_count": 129
        },
        {
          "output_type": "display_data",
          "data": {
            "text/plain": [
              "<Figure size 640x480 with 2 Axes>"
            ],
            "image/png": "[encoded data removed]"
          },
          "metadata": {}
        }
      ]
    },
    {
      "cell_type": "markdown",
      "source": [
        "# **Building the model**"
      ],
      "metadata": {
        "id": "T2l1YXgufp-a"
      }
    },
    {
      "cell_type": "code",
      "source": [
        "from sklearn.model_selection import train_test_split, cross_val_score, KFold\n",
        "from sklearn.compose import ColumnTransformer\n",
        "from sklearn.pipeline import Pipeline\n",
        "from sklearn.preprocessing import OneHotEncoder\n",
        "from sklearn.metrics import r2_score, mean_absolute_error, mean_squared_error, make_scorer\n",
        "from sklearn.linear_model import LinearRegression,Ridge,Lasso\n",
        "from sklearn.neighbors import KNeighborsRegressor\n",
        "from sklearn.tree import DecisionTreeRegressor\n",
        "from sklearn.ensemble import RandomForestRegressor\n",
        "import xgboost as xgb\n",
        "from sklearn.svm import SVR"
      ],
      "metadata": {
        "id": "UmgumhLDZxCy"
      },
      "execution_count": 131,
      "outputs": []
    },
    {
      "cell_type": "code",
      "source": [
        "y = np.log(new_df['price'])\n",
        "X = new_df.drop('price', axis=1)\n",
        "X_train, X_test, y_train, y_test = train_test_split(X, y, test_size=0.2, random_state=42)\n",
        "print(X_train.shape, X_test.shape)"
      ],
      "metadata": {
        "colab": {
          "base_uri": "https://localhost:8080/"
        },
        "id": "VDQz_xS7Zu-A",
        "outputId": "b62373e3-4d71-401e-a878-97a8f710ce4b"
      },
      "execution_count": 133,
      "outputs": [
        {
          "output_type": "stream",
          "name": "stdout",
          "text": [
            "(916, 13) (230, 13)\n"
          ]
        }
      ]
    },
    {
      "cell_type": "markdown",
      "source": [
        "We create a sklearn pipeline to one-hot encoding for categoricals and to build and train our model."
      ],
      "metadata": {
        "id": "38R5yajwgDNq"
      }
    },
    {
      "cell_type": "code",
      "source": [
        "X_train.info()"
      ],
      "metadata": {
        "colab": {
          "base_uri": "https://localhost:8080/"
        },
        "id": "d1mre5zqaNKL",
        "outputId": "42df7e66-f73b-404e-b8db-00cc3fa3aa0b"
      },
      "execution_count": 136,
      "outputs": [
        {
          "output_type": "stream",
          "name": "stdout",
          "text": [
            "<class 'pandas.core.frame.DataFrame'>\n",
            "Int64Index: 916 entries, 730 to 1151\n",
            "Data columns (total 13 columns):\n",
            " #   Column           Non-Null Count  Dtype  \n",
            "---  ------           --------------  -----  \n",
            " 0   bluetooth        916 non-null    int64  \n",
            " 1   cpu-brand        916 non-null    object \n",
            " 2   cpu-cache-mb     916 non-null    int64  \n",
            " 3   gpu-brand        916 non-null    object \n",
            " 4   has-multi-touch  916 non-null    int64  \n",
            " 5   has-security-id  916 non-null    int64  \n",
            " 6   os               916 non-null    object \n",
            " 7   ram-gb           916 non-null    int64  \n",
            " 8   size             916 non-null    int64  \n",
            " 9   title            916 non-null    object \n",
            " 10  usage            916 non-null    object \n",
            " 11  usb-ports        916 non-null    int64  \n",
            " 12  weight-kg        916 non-null    float64\n",
            "dtypes: float64(1), int64(7), object(5)\n",
            "memory usage: 100.2+ KB\n"
          ]
        }
      ]
    },
    {
      "cell_type": "markdown",
      "source": [
        "##LinearRegression (Lasso)"
      ],
      "metadata": {
        "id": "lDVvdZzBf-E1"
      }
    },
    {
      "cell_type": "code",
      "source": [
        "ohe = ColumnTransformer(transformers=[\n",
        "    ('col_tnf',OneHotEncoder(sparse=False,drop='first'),[1,3,6,10,9])\n",
        "],remainder='passthrough')\n",
        "\n",
        "model = Lasso(alpha=0.001)\n",
        "\n",
        "pipe = Pipeline([\n",
        "    ('step1',ohe),\n",
        "    ('step2',model)\n",
        "])\n",
        "\n",
        "pipe.fit(X_train, y_train)\n",
        "\n",
        "y_pred = pipe.predict(X_test)\n",
        "\n",
        "print('R2 score',r2_score(y_test, y_pred))\n",
        "print('MAE',mean_absolute_error(y_test, y_pred))"
      ],
      "metadata": {
        "colab": {
          "base_uri": "https://localhost:8080/"
        },
        "id": "MaIHmaHNmclr",
        "outputId": "f37dd049-2686-4b60-eddd-004f026cb016"
      },
      "execution_count": 137,
      "outputs": [
        {
          "output_type": "stream",
          "name": "stdout",
          "text": [
            "R2 score 0.44278968119922746\n",
            "MAE 0.39844336832842486\n"
          ]
        }
      ]
    },
    {
      "cell_type": "code",
      "source": [
        "errors = abs(y_pred - y_test)\n",
        "print('Mean Absolute Error:', round(np.mean(errors), 2), 'degrees.')\n",
        "\n",
        "mape = 100 * (errors / y_test)\n",
        "accuracy = 100 - np.mean(mape)\n",
        "print('Accuracy:', round(accuracy, 2), '%.')"
      ],
      "metadata": {
        "colab": {
          "base_uri": "https://localhost:8080/"
        },
        "id": "AVZpbdNfic2j",
        "outputId": "5644f9af-c466-4ece-f3d2-e062668fe6c2"
      },
      "execution_count": 138,
      "outputs": [
        {
          "output_type": "stream",
          "name": "stdout",
          "text": [
            "Mean Absolute Error: 0.4 degrees.\n",
            "Accuracy: 78.9 %.\n"
          ]
        }
      ]
    },
    {
      "cell_type": "markdown",
      "source": [
        "## KNeighborsRegressor"
      ],
      "metadata": {
        "id": "V5ez26JMgduP"
      }
    },
    {
      "cell_type": "code",
      "source": [
        "ohe = ColumnTransformer(transformers=[\n",
        "    ('col_tnf',OneHotEncoder(sparse=False,drop='first'),[1,3,6,10,9])\n",
        "],remainder='passthrough')\n",
        "\n",
        "model = KNeighborsRegressor(n_neighbors=3)\n",
        "\n",
        "pipe = Pipeline([\n",
        "    ('step1',ohe),\n",
        "    ('step2',model)\n",
        "])\n",
        "\n",
        "pipe.fit(X_train, y_train)\n",
        "\n",
        "y_pred = pipe.predict(X_test)\n",
        "\n",
        "print('R2 score',r2_score(y_test, y_pred))\n",
        "print('MAE',mean_absolute_error(y_test, y_pred))"
      ],
      "metadata": {
        "colab": {
          "base_uri": "https://localhost:8080/"
        },
        "id": "6O77TaNvcIFQ",
        "outputId": "d8aa265a-abef-485a-a478-2e24fff60dd9"
      },
      "execution_count": 139,
      "outputs": [
        {
          "output_type": "stream",
          "name": "stdout",
          "text": [
            "R2 score 0.45795976506205316\n",
            "MAE 0.34700755495787816\n"
          ]
        }
      ]
    },
    {
      "cell_type": "code",
      "source": [
        "errors = abs(y_pred - y_test)\n",
        "print('Mean Absolute Error:', round(np.mean(errors), 2), 'degrees.')\n",
        "\n",
        "mape = 100 * (errors / y_test)\n",
        "accuracy = 100 - np.mean(mape)\n",
        "print('Accuracy:', round(accuracy, 2), '%.')"
      ],
      "metadata": {
        "colab": {
          "base_uri": "https://localhost:8080/"
        },
        "id": "6a_Jhq4Uie6V",
        "outputId": "2d3b987b-5927-4ae2-9e61-0570647d09ce"
      },
      "execution_count": 140,
      "outputs": [
        {
          "output_type": "stream",
          "name": "stdout",
          "text": [
            "Mean Absolute Error: 0.35 degrees.\n",
            "Accuracy: 77.86 %.\n"
          ]
        }
      ]
    },
    {
      "cell_type": "markdown",
      "source": [
        "## SVR"
      ],
      "metadata": {
        "id": "Yqxgs4K1gm3H"
      }
    },
    {
      "cell_type": "code",
      "source": [
        "ohe = ColumnTransformer(transformers=[\n",
        "    ('col_tnf',OneHotEncoder(sparse=False,drop='first'),[1,3,6,10,9])\n",
        "],remainder='passthrough')\n",
        "\n",
        "model = SVR(kernel='rbf',C=10000,epsilon=0.1)\n",
        "\n",
        "pipe = Pipeline([\n",
        "    ('step1',ohe),\n",
        "    ('step2',model)\n",
        "])\n",
        "\n",
        "pipe.fit(X_train,y_train)\n",
        "\n",
        "y_pred = pipe.predict(X_test)\n",
        "\n",
        "print('R2 score',r2_score(y_test, y_pred))\n",
        "print('MAE',mean_absolute_error(y_test, y_pred))"
      ],
      "metadata": {
        "colab": {
          "base_uri": "https://localhost:8080/"
        },
        "id": "-fC6E3x9miZl",
        "outputId": "7da4b148-3ba0-49e0-dfaf-19f6d9b35d28"
      },
      "execution_count": 141,
      "outputs": [
        {
          "output_type": "stream",
          "name": "stdout",
          "text": [
            "R2 score 0.029215258482119588\n",
            "MAE 0.408847848118204\n"
          ]
        }
      ]
    },
    {
      "cell_type": "code",
      "source": [
        "errors = abs(y_pred - y_test)\n",
        "print('Mean Absolute Error:', round(np.mean(errors), 2), 'degrees.')\n",
        "\n",
        "mape = 100 * (errors / y_test)\n",
        "accuracy = 100 - np.mean(mape)\n",
        "print('Accuracy:', round(accuracy, 2), '%.')"
      ],
      "metadata": {
        "colab": {
          "base_uri": "https://localhost:8080/"
        },
        "id": "EDV98SE-igih",
        "outputId": "7f888a47-1b53-4608-9c6d-bb610cda490c"
      },
      "execution_count": 142,
      "outputs": [
        {
          "output_type": "stream",
          "name": "stdout",
          "text": [
            "Mean Absolute Error: 0.41 degrees.\n",
            "Accuracy: 61.85 %.\n"
          ]
        }
      ]
    },
    {
      "cell_type": "markdown",
      "source": [
        "## Decision Tree Regressor"
      ],
      "metadata": {
        "id": "g3CFGNpPhCZw"
      }
    },
    {
      "cell_type": "code",
      "source": [
        "ohe = ColumnTransformer(transformers=[\n",
        "    ('col_tnf',OneHotEncoder(sparse=False,drop='first'),[1,3,6,10,9])\n",
        "],remainder='passthrough')\n",
        "\n",
        "\n",
        "model = DecisionTreeRegressor(\n",
        "    min_samples_split=10,\n",
        "    max_features=\"auto\",\n",
        "    random_state=2,\n",
        "    max_depth=9\n",
        ")\n",
        "\n",
        "\n",
        "pipe = Pipeline([\n",
        "    ('step1',ohe),\n",
        "    ('step2',model)\n",
        "])\n",
        "\n",
        "pipe.fit(X_train,y_train)\n",
        "\n",
        "y_pred = pipe.predict(X_test)\n",
        "\n",
        "print('R2 score',r2_score(y_test, y_pred))\n",
        "print('MAE',mean_absolute_error(y_test, y_pred))"
      ],
      "metadata": {
        "colab": {
          "base_uri": "https://localhost:8080/"
        },
        "id": "MmjdPDv_m-ol",
        "outputId": "ebbee3cc-cafe-4621-a393-5a4a8a7adaf3"
      },
      "execution_count": 143,
      "outputs": [
        {
          "output_type": "stream",
          "name": "stdout",
          "text": [
            "R2 score 0.36930537518457984\n",
            "MAE 0.374403321346989\n"
          ]
        }
      ]
    },
    {
      "cell_type": "code",
      "source": [
        "margin_error = pd.DataFrame({'Actual Price': y_test, 'Predicted value': y_pred, 'Margin of error': y_test-y_pred})\n",
        "margin_error[0:20]"
      ],
      "metadata": {
        "colab": {
          "base_uri": "https://localhost:8080/",
          "height": 676
        },
        "id": "fLVa8G8rnPbu",
        "outputId": "a6dc1c7f-d438-4dc8-d21f-c2ce01879a2d"
      },
      "execution_count": 144,
      "outputs": [
        {
          "output_type": "execute_result",
          "data": {
            "text/plain": [
              "      Actual Price  Predicted value  Margin of error\n",
              "218       0.145830         0.205433        -0.059603\n",
              "820       2.170196         1.854825         0.315371\n",
              "505       0.916291         0.950256        -0.033966\n",
              "656       2.208274         1.528397         0.679878\n",
              "324       0.593272         0.725838        -0.132566\n",
              "510       0.117783         0.122949        -0.005166\n",
              "1024      1.128171         0.480997         0.647174\n",
              "107       1.098612         1.529331        -0.430718\n",
              "739       1.007593         0.942552         0.065040\n",
              "170       1.257949         1.529331        -0.271381\n",
              "335       1.278152         1.202493         0.075659\n",
              "353       0.841136         0.734017         0.107119\n",
              "878       2.140066         1.529331         0.610735\n",
              "309       1.754231         1.572851         0.181379\n",
              "619       2.041090         2.219029        -0.177938\n",
              "676      -1.148538         1.529331        -2.677869\n",
              "86        0.178146         0.363722        -0.185576\n",
              "964       2.159869         1.903743         0.256126\n",
              "209       1.208960         1.149318         0.059643\n",
              "435       0.425268         0.469588        -0.044321"
            ],
            "text/html": [
              "\n",
              "  <div id=\"df-4d3484ab-1d16-4309-ae94-c7152401fa77\">\n",
              "    <div class=\"colab-df-container\">\n",
              "      <div>\n",
              "<style scoped>\n",
              "    .dataframe tbody tr th:only-of-type {\n",
              "        vertical-align: middle;\n",
              "    }\n",
              "\n",
              "    .dataframe tbody tr th {\n",
              "        vertical-align: top;\n",
              "    }\n",
              "\n",
              "    .dataframe thead th {\n",
              "        text-align: right;\n",
              "    }\n",
              "</style>\n",
              "<table border=\"1\" class=\"dataframe\">\n",
              "  <thead>\n",
              "    <tr style=\"text-align: right;\">\n",
              "      <th></th>\n",
              "      <th>Actual Price</th>\n",
              "      <th>Predicted value</th>\n",
              "      <th>Margin of error</th>\n",
              "    </tr>\n",
              "  </thead>\n",
              "  <tbody>\n",
              "    <tr>\n",
              "      <th>218</th>\n",
              "      <td>0.145830</td>\n",
              "      <td>0.205433</td>\n",
              "      <td>-0.059603</td>\n",
              "    </tr>\n",
              "    <tr>\n",
              "      <th>820</th>\n",
              "      <td>2.170196</td>\n",
              "      <td>1.854825</td>\n",
              "      <td>0.315371</td>\n",
              "    </tr>\n",
              "    <tr>\n",
              "      <th>505</th>\n",
              "      <td>0.916291</td>\n",
              "      <td>0.950256</td>\n",
              "      <td>-0.033966</td>\n",
              "    </tr>\n",
              "    <tr>\n",
              "      <th>656</th>\n",
              "      <td>2.208274</td>\n",
              "      <td>1.528397</td>\n",
              "      <td>0.679878</td>\n",
              "    </tr>\n",
              "    <tr>\n",
              "      <th>324</th>\n",
              "      <td>0.593272</td>\n",
              "      <td>0.725838</td>\n",
              "      <td>-0.132566</td>\n",
              "    </tr>\n",
              "    <tr>\n",
              "      <th>510</th>\n",
              "      <td>0.117783</td>\n",
              "      <td>0.122949</td>\n",
              "      <td>-0.005166</td>\n",
              "    </tr>\n",
              "    <tr>\n",
              "      <th>1024</th>\n",
              "      <td>1.128171</td>\n",
              "      <td>0.480997</td>\n",
              "      <td>0.647174</td>\n",
              "    </tr>\n",
              "    <tr>\n",
              "      <th>107</th>\n",
              "      <td>1.098612</td>\n",
              "      <td>1.529331</td>\n",
              "      <td>-0.430718</td>\n",
              "    </tr>\n",
              "    <tr>\n",
              "      <th>739</th>\n",
              "      <td>1.007593</td>\n",
              "      <td>0.942552</td>\n",
              "      <td>0.065040</td>\n",
              "    </tr>\n",
              "    <tr>\n",
              "      <th>170</th>\n",
              "      <td>1.257949</td>\n",
              "      <td>1.529331</td>\n",
              "      <td>-0.271381</td>\n",
              "    </tr>\n",
              "    <tr>\n",
              "      <th>335</th>\n",
              "      <td>1.278152</td>\n",
              "      <td>1.202493</td>\n",
              "      <td>0.075659</td>\n",
              "    </tr>\n",
              "    <tr>\n",
              "      <th>353</th>\n",
              "      <td>0.841136</td>\n",
              "      <td>0.734017</td>\n",
              "      <td>0.107119</td>\n",
              "    </tr>\n",
              "    <tr>\n",
              "      <th>878</th>\n",
              "      <td>2.140066</td>\n",
              "      <td>1.529331</td>\n",
              "      <td>0.610735</td>\n",
              "    </tr>\n",
              "    <tr>\n",
              "      <th>309</th>\n",
              "      <td>1.754231</td>\n",
              "      <td>1.572851</td>\n",
              "      <td>0.181379</td>\n",
              "    </tr>\n",
              "    <tr>\n",
              "      <th>619</th>\n",
              "      <td>2.041090</td>\n",
              "      <td>2.219029</td>\n",
              "      <td>-0.177938</td>\n",
              "    </tr>\n",
              "    <tr>\n",
              "      <th>676</th>\n",
              "      <td>-1.148538</td>\n",
              "      <td>1.529331</td>\n",
              "      <td>-2.677869</td>\n",
              "    </tr>\n",
              "    <tr>\n",
              "      <th>86</th>\n",
              "      <td>0.178146</td>\n",
              "      <td>0.363722</td>\n",
              "      <td>-0.185576</td>\n",
              "    </tr>\n",
              "    <tr>\n",
              "      <th>964</th>\n",
              "      <td>2.159869</td>\n",
              "      <td>1.903743</td>\n",
              "      <td>0.256126</td>\n",
              "    </tr>\n",
              "    <tr>\n",
              "      <th>209</th>\n",
              "      <td>1.208960</td>\n",
              "      <td>1.149318</td>\n",
              "      <td>0.059643</td>\n",
              "    </tr>\n",
              "    <tr>\n",
              "      <th>435</th>\n",
              "      <td>0.425268</td>\n",
              "      <td>0.469588</td>\n",
              "      <td>-0.044321</td>\n",
              "    </tr>\n",
              "  </tbody>\n",
              "</table>\n",
              "</div>\n",
              "      <button class=\"colab-df-convert\" onclick=\"convertToInteractive('df-4d3484ab-1d16-4309-ae94-c7152401fa77')\"\n",
              "              title=\"Convert this dataframe to an interactive table.\"\n",
              "              style=\"display:none;\">\n",
              "        \n",
              "  <svg xmlns=\"http://www.w3.org/2000/svg\" height=\"24px\"viewBox=\"0 0 24 24\"\n",
              "       width=\"24px\">\n",
              "    <path d=\"M0 0h24v24H0V0z\" fill=\"none\"/>\n",
              "    <path d=\"M18.56 5.44l.94 2.06.94-2.06 2.06-.94-2.06-.94-.94-2.06-.94 2.06-2.06.94zm-11 1L8.5 8.5l.94-2.06 2.06-.94-2.06-.94L8.5 2.5l-.94 2.06-2.06.94zm10 10l.94 2.06.94-2.06 2.06-.94-2.06-.94-.94-2.06-.94 2.06-2.06.94z\"/><path d=\"M17.41 7.96l-1.37-1.37c-.4-.4-.92-.59-1.43-.59-.52 0-1.04.2-1.43.59L10.3 9.45l-7.72 7.72c-.78.78-.78 2.05 0 2.83L4 21.41c.39.39.9.59 1.41.59.51 0 1.02-.2 1.41-.59l7.78-7.78 2.81-2.81c.8-.78.8-2.07 0-2.86zM5.41 20L4 18.59l7.72-7.72 1.47 1.35L5.41 20z\"/>\n",
              "  </svg>\n",
              "      </button>\n",
              "      \n",
              "  <style>\n",
              "    .colab-df-container {\n",
              "      display:flex;\n",
              "      flex-wrap:wrap;\n",
              "      gap: 12px;\n",
              "    }\n",
              "\n",
              "    .colab-df-convert {\n",
              "      background-color: #E8F0FE;\n",
              "      border: none;\n",
              "      border-radius: 50%;\n",
              "      cursor: pointer;\n",
              "      display: none;\n",
              "      fill: #1967D2;\n",
              "      height: 32px;\n",
              "      padding: 0 0 0 0;\n",
              "      width: 32px;\n",
              "    }\n",
              "\n",
              "    .colab-df-convert:hover {\n",
              "      background-color: #E2EBFA;\n",
              "      box-shadow: 0px 1px 2px rgba(60, 64, 67, 0.3), 0px 1px 3px 1px rgba(60, 64, 67, 0.15);\n",
              "      fill: #174EA6;\n",
              "    }\n",
              "\n",
              "    [theme=dark] .colab-df-convert {\n",
              "      background-color: #3B4455;\n",
              "      fill: #D2E3FC;\n",
              "    }\n",
              "\n",
              "    [theme=dark] .colab-df-convert:hover {\n",
              "      background-color: #434B5C;\n",
              "      box-shadow: 0px 1px 3px 1px rgba(0, 0, 0, 0.15);\n",
              "      filter: drop-shadow(0px 1px 2px rgba(0, 0, 0, 0.3));\n",
              "      fill: #FFFFFF;\n",
              "    }\n",
              "  </style>\n",
              "\n",
              "      <script>\n",
              "        const buttonEl =\n",
              "          document.querySelector('#df-4d3484ab-1d16-4309-ae94-c7152401fa77 button.colab-df-convert');\n",
              "        buttonEl.style.display =\n",
              "          google.colab.kernel.accessAllowed ? 'block' : 'none';\n",
              "\n",
              "        async function convertToInteractive(key) {\n",
              "          const element = document.querySelector('#df-4d3484ab-1d16-4309-ae94-c7152401fa77');\n",
              "          const dataTable =\n",
              "            await google.colab.kernel.invokeFunction('convertToInteractive',\n",
              "                                                     [key], {});\n",
              "          if (!dataTable) return;\n",
              "\n",
              "          const docLinkHtml = 'Like what you see? Visit the ' +\n",
              "            '<a target=\"_blank\" href=https://colab.research.google.com/notebooks/data_table.ipynb>data table notebook</a>'\n",
              "            + ' to learn more about interactive tables.';\n",
              "          element.innerHTML = '';\n",
              "          dataTable['output_type'] = 'display_data';\n",
              "          await google.colab.output.renderOutput(dataTable, element);\n",
              "          const docLink = document.createElement('div');\n",
              "          docLink.innerHTML = docLinkHtml;\n",
              "          element.appendChild(docLink);\n",
              "        }\n",
              "      </script>\n",
              "    </div>\n",
              "  </div>\n",
              "  "
            ]
          },
          "metadata": {},
          "execution_count": 144
        }
      ]
    },
    {
      "cell_type": "code",
      "source": [
        "errors = abs(y_pred - y_test)\n",
        "print('Mean Absolute Error:', round(np.mean(errors), 2), 'degrees.')\n",
        "\n",
        "mape = 100 * (errors / y_test)\n",
        "accuracy = 100 - np.mean(mape)\n",
        "print('Accuracy:', round(accuracy, 2), '%.')"
      ],
      "metadata": {
        "colab": {
          "base_uri": "https://localhost:8080/"
        },
        "id": "M13OumJKnU9J",
        "outputId": "e3865356-e847-4fae-c79c-abbcde6db399"
      },
      "execution_count": 145,
      "outputs": [
        {
          "output_type": "stream",
          "name": "stdout",
          "text": [
            "Mean Absolute Error: 0.37 degrees.\n",
            "Accuracy: 81.33 %.\n"
          ]
        }
      ]
    },
    {
      "cell_type": "code",
      "source": [
        "plt.figure(figsize=(5, 7))\n",
        "\n",
        "ax = sns.distplot(y, hist=False, color=\"r\", label=\"Actual Value\")\n",
        "sns.distplot(y_pred, hist=False, color=\"b\", label=\"Fitted Values\" , ax=ax)\n",
        "\n",
        "plt.title('Actual vs Fitted Values for Price')\n",
        "plt.show()\n",
        "plt.close()"
      ],
      "metadata": {
        "colab": {
          "base_uri": "https://localhost:8080/",
          "height": 641
        },
        "id": "4vuqUYBLnYQK",
        "outputId": "18c23b09-7a16-49ce-d23b-2a2173ed835c"
      },
      "execution_count": 146,
      "outputs": [
        {
          "output_type": "display_data",
          "data": {
            "text/plain": [
              "<Figure size 500x700 with 1 Axes>"
            ],
            "image/png": "[encoded data removed]"
          },
          "metadata": {}
        }
      ]
    },
    {
      "cell_type": "markdown",
      "source": [
        "## XGBoost Regressor"
      ],
      "metadata": {
        "id": "mH-WyPhGh9v0"
      }
    },
    {
      "cell_type": "code",
      "source": [
        "ohe = ColumnTransformer(transformers=[\n",
        "    ('col_tnf',OneHotEncoder(sparse=False,drop='first'),[1,3,6,10,9])\n",
        "],remainder='passthrough')\n",
        "\n",
        "\n",
        "model = xgb.XGBRegressor(objective='reg:squarederror')\n",
        "\n",
        "pipe = Pipeline([\n",
        "    ('step1',ohe),\n",
        "    ('step2',model)\n",
        "])\n",
        "\n",
        "pipe.fit(X_train,y_train)\n",
        "\n",
        "y_pred = pipe.predict(X_test)\n",
        "\n",
        "print('R2 score',r2_score(y_test,y_pred))\n",
        "print('MAE',mean_absolute_error(y_test,y_pred))"
      ],
      "metadata": {
        "colab": {
          "base_uri": "https://localhost:8080/"
        },
        "id": "Yef_y7Spp0q9",
        "outputId": "042f13f6-239c-4089-a3d4-05edcb7912c8"
      },
      "execution_count": 147,
      "outputs": [
        {
          "output_type": "stream",
          "name": "stdout",
          "text": [
            "R2 score 0.37180893713869756\n",
            "MAE 0.3247269179451763\n"
          ]
        }
      ]
    },
    {
      "cell_type": "code",
      "source": [
        "# Evaluate the margin of error.\n",
        "df_py = pd.DataFrame({'Actual Price': y_test, 'Predicted value': y_pred, 'Margin of error': y_test-y_pred})\n",
        "df_py[0:20]"
      ],
      "metadata": {
        "colab": {
          "base_uri": "https://localhost:8080/",
          "height": 676
        },
        "outputId": "9fdf5467-a2dd-43f4-df91-548c6c51e8a1",
        "id": "wCTTkDpQqEce"
      },
      "execution_count": 148,
      "outputs": [
        {
          "output_type": "execute_result",
          "data": {
            "text/plain": [
              "      Actual Price  Predicted value  Margin of error\n",
              "218       0.145830        -0.072796         0.218626\n",
              "820       2.170196         2.123743         0.046453\n",
              "505       0.916291         0.956305        -0.040014\n",
              "656       2.208274         3.434774        -1.226500\n",
              "324       0.593272         0.579030         0.014241\n",
              "510       0.117783        -0.456928         0.574711\n",
              "1024      1.128171         1.039090         0.089081\n",
              "107       1.098612         1.404442        -0.305830\n",
              "739       1.007593         0.870433         0.137159\n",
              "170       1.257949         1.167892         0.090057\n",
              "335       1.278152         1.188596         0.089556\n",
              "353       0.841136         0.661178         0.179958\n",
              "878       2.140066         1.793901         0.346166\n",
              "309       1.754231         1.747764         0.006467\n",
              "619       2.041090         1.825970         0.215120\n",
              "676      -1.148538         1.929707        -3.078245\n",
              "86        0.178146         0.470228        -0.292082\n",
              "964       2.159869         2.142148         0.017721\n",
              "209       1.208960         1.191898         0.017063\n",
              "435       0.425268         0.400630         0.024638"
            ],
            "text/html": [
              "\n",
              "  <div id=\"df-fb04bda8-2699-48a5-9081-37a946cbda9c\">\n",
              "    <div class=\"colab-df-container\">\n",
              "      <div>\n",
              "<style scoped>\n",
              "    .dataframe tbody tr th:only-of-type {\n",
              "        vertical-align: middle;\n",
              "    }\n",
              "\n",
              "    .dataframe tbody tr th {\n",
              "        vertical-align: top;\n",
              "    }\n",
              "\n",
              "    .dataframe thead th {\n",
              "        text-align: right;\n",
              "    }\n",
              "</style>\n",
              "<table border=\"1\" class=\"dataframe\">\n",
              "  <thead>\n",
              "    <tr style=\"text-align: right;\">\n",
              "      <th></th>\n",
              "      <th>Actual Price</th>\n",
              "      <th>Predicted value</th>\n",
              "      <th>Margin of error</th>\n",
              "    </tr>\n",
              "  </thead>\n",
              "  <tbody>\n",
              "    <tr>\n",
              "      <th>218</th>\n",
              "      <td>0.145830</td>\n",
              "      <td>-0.072796</td>\n",
              "      <td>0.218626</td>\n",
              "    </tr>\n",
              "    <tr>\n",
              "      <th>820</th>\n",
              "      <td>2.170196</td>\n",
              "      <td>2.123743</td>\n",
              "      <td>0.046453</td>\n",
              "    </tr>\n",
              "    <tr>\n",
              "      <th>505</th>\n",
              "      <td>0.916291</td>\n",
              "      <td>0.956305</td>\n",
              "      <td>-0.040014</td>\n",
              "    </tr>\n",
              "    <tr>\n",
              "      <th>656</th>\n",
              "      <td>2.208274</td>\n",
              "      <td>3.434774</td>\n",
              "      <td>-1.226500</td>\n",
              "    </tr>\n",
              "    <tr>\n",
              "      <th>324</th>\n",
              "      <td>0.593272</td>\n",
              "      <td>0.579030</td>\n",
              "      <td>0.014241</td>\n",
              "    </tr>\n",
              "    <tr>\n",
              "      <th>510</th>\n",
              "      <td>0.117783</td>\n",
              "      <td>-0.456928</td>\n",
              "      <td>0.574711</td>\n",
              "    </tr>\n",
              "    <tr>\n",
              "      <th>1024</th>\n",
              "      <td>1.128171</td>\n",
              "      <td>1.039090</td>\n",
              "      <td>0.089081</td>\n",
              "    </tr>\n",
              "    <tr>\n",
              "      <th>107</th>\n",
              "      <td>1.098612</td>\n",
              "      <td>1.404442</td>\n",
              "      <td>-0.305830</td>\n",
              "    </tr>\n",
              "    <tr>\n",
              "      <th>739</th>\n",
              "      <td>1.007593</td>\n",
              "      <td>0.870433</td>\n",
              "      <td>0.137159</td>\n",
              "    </tr>\n",
              "    <tr>\n",
              "      <th>170</th>\n",
              "      <td>1.257949</td>\n",
              "      <td>1.167892</td>\n",
              "      <td>0.090057</td>\n",
              "    </tr>\n",
              "    <tr>\n",
              "      <th>335</th>\n",
              "      <td>1.278152</td>\n",
              "      <td>1.188596</td>\n",
              "      <td>0.089556</td>\n",
              "    </tr>\n",
              "    <tr>\n",
              "      <th>353</th>\n",
              "      <td>0.841136</td>\n",
              "      <td>0.661178</td>\n",
              "      <td>0.179958</td>\n",
              "    </tr>\n",
              "    <tr>\n",
              "      <th>878</th>\n",
              "      <td>2.140066</td>\n",
              "      <td>1.793901</td>\n",
              "      <td>0.346166</td>\n",
              "    </tr>\n",
              "    <tr>\n",
              "      <th>309</th>\n",
              "      <td>1.754231</td>\n",
              "      <td>1.747764</td>\n",
              "      <td>0.006467</td>\n",
              "    </tr>\n",
              "    <tr>\n",
              "      <th>619</th>\n",
              "      <td>2.041090</td>\n",
              "      <td>1.825970</td>\n",
              "      <td>0.215120</td>\n",
              "    </tr>\n",
              "    <tr>\n",
              "      <th>676</th>\n",
              "      <td>-1.148538</td>\n",
              "      <td>1.929707</td>\n",
              "      <td>-3.078245</td>\n",
              "    </tr>\n",
              "    <tr>\n",
              "      <th>86</th>\n",
              "      <td>0.178146</td>\n",
              "      <td>0.470228</td>\n",
              "      <td>-0.292082</td>\n",
              "    </tr>\n",
              "    <tr>\n",
              "      <th>964</th>\n",
              "      <td>2.159869</td>\n",
              "      <td>2.142148</td>\n",
              "      <td>0.017721</td>\n",
              "    </tr>\n",
              "    <tr>\n",
              "      <th>209</th>\n",
              "      <td>1.208960</td>\n",
              "      <td>1.191898</td>\n",
              "      <td>0.017063</td>\n",
              "    </tr>\n",
              "    <tr>\n",
              "      <th>435</th>\n",
              "      <td>0.425268</td>\n",
              "      <td>0.400630</td>\n",
              "      <td>0.024638</td>\n",
              "    </tr>\n",
              "  </tbody>\n",
              "</table>\n",
              "</div>\n",
              "      <button class=\"colab-df-convert\" onclick=\"convertToInteractive('df-fb04bda8-2699-48a5-9081-37a946cbda9c')\"\n",
              "              title=\"Convert this dataframe to an interactive table.\"\n",
              "              style=\"display:none;\">\n",
              "        \n",
              "  <svg xmlns=\"http://www.w3.org/2000/svg\" height=\"24px\"viewBox=\"0 0 24 24\"\n",
              "       width=\"24px\">\n",
              "    <path d=\"M0 0h24v24H0V0z\" fill=\"none\"/>\n",
              "    <path d=\"M18.56 5.44l.94 2.06.94-2.06 2.06-.94-2.06-.94-.94-2.06-.94 2.06-2.06.94zm-11 1L8.5 8.5l.94-2.06 2.06-.94-2.06-.94L8.5 2.5l-.94 2.06-2.06.94zm10 10l.94 2.06.94-2.06 2.06-.94-2.06-.94-.94-2.06-.94 2.06-2.06.94z\"/><path d=\"M17.41 7.96l-1.37-1.37c-.4-.4-.92-.59-1.43-.59-.52 0-1.04.2-1.43.59L10.3 9.45l-7.72 7.72c-.78.78-.78 2.05 0 2.83L4 21.41c.39.39.9.59 1.41.59.51 0 1.02-.2 1.41-.59l7.78-7.78 2.81-2.81c.8-.78.8-2.07 0-2.86zM5.41 20L4 18.59l7.72-7.72 1.47 1.35L5.41 20z\"/>\n",
              "  </svg>\n",
              "      </button>\n",
              "      \n",
              "  <style>\n",
              "    .colab-df-container {\n",
              "      display:flex;\n",
              "      flex-wrap:wrap;\n",
              "      gap: 12px;\n",
              "    }\n",
              "\n",
              "    .colab-df-convert {\n",
              "      background-color: #E8F0FE;\n",
              "      border: none;\n",
              "      border-radius: 50%;\n",
              "      cursor: pointer;\n",
              "      display: none;\n",
              "      fill: #1967D2;\n",
              "      height: 32px;\n",
              "      padding: 0 0 0 0;\n",
              "      width: 32px;\n",
              "    }\n",
              "\n",
              "    .colab-df-convert:hover {\n",
              "      background-color: #E2EBFA;\n",
              "      box-shadow: 0px 1px 2px rgba(60, 64, 67, 0.3), 0px 1px 3px 1px rgba(60, 64, 67, 0.15);\n",
              "      fill: #174EA6;\n",
              "    }\n",
              "\n",
              "    [theme=dark] .colab-df-convert {\n",
              "      background-color: #3B4455;\n",
              "      fill: #D2E3FC;\n",
              "    }\n",
              "\n",
              "    [theme=dark] .colab-df-convert:hover {\n",
              "      background-color: #434B5C;\n",
              "      box-shadow: 0px 1px 3px 1px rgba(0, 0, 0, 0.15);\n",
              "      filter: drop-shadow(0px 1px 2px rgba(0, 0, 0, 0.3));\n",
              "      fill: #FFFFFF;\n",
              "    }\n",
              "  </style>\n",
              "\n",
              "      <script>\n",
              "        const buttonEl =\n",
              "          document.querySelector('#df-fb04bda8-2699-48a5-9081-37a946cbda9c button.colab-df-convert');\n",
              "        buttonEl.style.display =\n",
              "          google.colab.kernel.accessAllowed ? 'block' : 'none';\n",
              "\n",
              "        async function convertToInteractive(key) {\n",
              "          const element = document.querySelector('#df-fb04bda8-2699-48a5-9081-37a946cbda9c');\n",
              "          const dataTable =\n",
              "            await google.colab.kernel.invokeFunction('convertToInteractive',\n",
              "                                                     [key], {});\n",
              "          if (!dataTable) return;\n",
              "\n",
              "          const docLinkHtml = 'Like what you see? Visit the ' +\n",
              "            '<a target=\"_blank\" href=https://colab.research.google.com/notebooks/data_table.ipynb>data table notebook</a>'\n",
              "            + ' to learn more about interactive tables.';\n",
              "          element.innerHTML = '';\n",
              "          dataTable['output_type'] = 'display_data';\n",
              "          await google.colab.output.renderOutput(dataTable, element);\n",
              "          const docLink = document.createElement('div');\n",
              "          docLink.innerHTML = docLinkHtml;\n",
              "          element.appendChild(docLink);\n",
              "        }\n",
              "      </script>\n",
              "    </div>\n",
              "  </div>\n",
              "  "
            ]
          },
          "metadata": {},
          "execution_count": 148
        }
      ]
    },
    {
      "cell_type": "code",
      "source": [
        "errors = abs(y_pred - y_test)\n",
        "print('Mean Absolute Error:', round(np.mean(errors), 2), 'degrees.')\n",
        "\n",
        "mape = 100 * (errors / y_test)\n",
        "accuracy = 100 - np.mean(mape)\n",
        "print('Accuracy:', round(accuracy, 2), '%.')"
      ],
      "metadata": {
        "colab": {
          "base_uri": "https://localhost:8080/"
        },
        "outputId": "fc8bacce-0929-47e1-e308-ea37af95784f",
        "id": "ZzlsDeVIqEcf"
      },
      "execution_count": 149,
      "outputs": [
        {
          "output_type": "stream",
          "name": "stdout",
          "text": [
            "Mean Absolute Error: 0.32 degrees.\n",
            "Accuracy: 73.25 %.\n"
          ]
        }
      ]
    },
    {
      "cell_type": "code",
      "source": [
        "import seaborn as sns\n",
        "plt.figure(figsize=(5, 7))\n",
        "\n",
        "\n",
        "ax = sns.distplot(y, hist=False, color=\"r\", label=\"Actual Value\")\n",
        "sns.distplot(y_pred, hist=False, color=\"b\", label=\"Fitted Values\" , ax=ax)\n",
        "\n",
        "\n",
        "plt.title('Actual vs Fitted Values for Price')\n",
        "\n",
        "\n",
        "plt.show()\n",
        "plt.close()"
      ],
      "metadata": {
        "colab": {
          "base_uri": "https://localhost:8080/",
          "height": 641
        },
        "outputId": "ec9461db-9076-4b68-9e41-da43f431a9a2",
        "id": "uvB6H9rYqEcf"
      },
      "execution_count": 150,
      "outputs": [
        {
          "output_type": "display_data",
          "data": {
            "text/plain": [
              "<Figure size 500x700 with 1 Axes>"
            ],
            "image/png": "[encoded data removed]"
          },
          "metadata": {}
        }
      ]
    },
    {
      "cell_type": "code",
      "source": [
        "param = {'max_depth': 5,\n",
        "         'subsample': 0.8,\n",
        "         'min_child_weight': 1,\n",
        "         'colsample_bytree': 0.9,\n",
        "         'learning_rate': 0.1,\n",
        "         'reg_alpha': 0,\n",
        "         'reg_lambda': 0,\n",
        "         'eval_metric': ['logloss','rmse']}\n",
        "\n",
        "epochs = 20\n",
        "evals_result={}\n",
        "\n",
        "xgbtrain = xgb.DMatrix(X_train._get_numeric_data(), y_train)\n",
        "xgbTest = xgb.DMatrix(X_test._get_numeric_data(), y_test)\n",
        "watchlist = [(xgbTest,'eval'), (xgbtrain,'train')]\n",
        "model = xgb.train(param, xgbtrain, epochs, watchlist,evals_result=evals_result)"
      ],
      "metadata": {
        "colab": {
          "base_uri": "https://localhost:8080/"
        },
        "id": "gIP1du_6fl2j",
        "outputId": "c9c9d273-1cd0-4229-b695-c20bc02ace7b"
      },
      "execution_count": 151,
      "outputs": [
        {
          "output_type": "stream",
          "name": "stdout",
          "text": [
            "[0]\teval-logloss:0.35016\teval-rmse:1.12080\ttrain-logloss:-0.40159\ttrain-rmse:1.22262\n",
            "[1]\teval-logloss:-0.50044\teval-rmse:1.03477\ttrain-logloss:-2.08282\ttrain-rmse:1.13383\n",
            "[2]\teval-logloss:-2.79381\teval-rmse:0.96327\ttrain-logloss:-4.32041\ttrain-rmse:1.06332\n",
            "[3]\teval-logloss:-7.23097\teval-rmse:0.89913\ttrain-logloss:-8.57911\ttrain-rmse:0.99515\n",
            "[4]\teval-logloss:-12.34820\teval-rmse:0.84140\ttrain-logloss:-13.10272\ttrain-rmse:0.93739\n",
            "[5]\teval-logloss:-14.89312\teval-rmse:0.79605\ttrain-logloss:-16.38192\ttrain-rmse:0.89112\n",
            "[6]\teval-logloss:-16.44019\teval-rmse:0.75824\ttrain-logloss:-18.12883\ttrain-rmse:0.84681\n",
            "[7]\teval-logloss:-16.96168\teval-rmse:0.72517\ttrain-logloss:-18.68284\ttrain-rmse:0.80788\n",
            "[8]\teval-logloss:-17.37689\teval-rmse:0.69848\ttrain-logloss:-19.21933\ttrain-rmse:0.77584\n",
            "[9]\teval-logloss:-17.67202\teval-rmse:0.67471\ttrain-logloss:-19.33650\ttrain-rmse:0.74694\n",
            "[10]\teval-logloss:-17.99178\teval-rmse:0.65531\ttrain-logloss:-19.93442\ttrain-rmse:0.72452\n",
            "[11]\teval-logloss:-17.96878\teval-rmse:0.64166\ttrain-logloss:-20.07373\ttrain-rmse:0.70274\n",
            "[12]\teval-logloss:-17.93459\teval-rmse:0.63229\ttrain-logloss:-20.24325\ttrain-rmse:0.68013\n",
            "[13]\teval-logloss:-19.18959\teval-rmse:0.62382\ttrain-logloss:-20.65481\ttrain-rmse:0.66383\n",
            "[14]\teval-logloss:-19.41135\teval-rmse:0.61827\ttrain-logloss:-20.76231\ttrain-rmse:0.64880\n",
            "[15]\teval-logloss:-19.70357\teval-rmse:0.61013\ttrain-logloss:-20.82594\ttrain-rmse:0.63821\n",
            "[16]\teval-logloss:-19.53111\teval-rmse:0.60520\ttrain-logloss:-20.86505\ttrain-rmse:0.62892\n",
            "[17]\teval-logloss:-19.55573\teval-rmse:0.60389\ttrain-logloss:-20.89396\ttrain-rmse:0.62129\n",
            "[18]\teval-logloss:-19.56337\teval-rmse:0.60340\ttrain-logloss:-20.93578\ttrain-rmse:0.61121\n",
            "[19]\teval-logloss:-19.43939\teval-rmse:0.60271\ttrain-logloss:-20.98624\ttrain-rmse:0.60172\n"
          ]
        }
      ]
    },
    {
      "cell_type": "code",
      "source": [
        "fig, ax = plt.subplots()\n",
        "x_axis = range(0, epochs)\n",
        "\n",
        "ax.plot(x_axis, evals_result['eval']['logloss'], label='Validation')\n",
        "ax.plot(x_axis, evals_result['train']['logloss'], label='Train')\n",
        "ax.legend()\n",
        "plt.ylabel('Log Loss')\n",
        "\n",
        "plt.title('XGBoost Log Loss')\n",
        "\n",
        "plt.show()"
      ],
      "metadata": {
        "colab": {
          "base_uri": "https://localhost:8080/",
          "height": 452
        },
        "id": "iuAs8Sq5jzJA",
        "outputId": "b603981c-3d84-4da6-fa89-0f387a4a2fd1"
      },
      "execution_count": 152,
      "outputs": [
        {
          "output_type": "display_data",
          "data": {
            "text/plain": [
              "<Figure size 640x480 with 1 Axes>"
            ],
            "image/png": "[encoded data removed]"
          },
          "metadata": {}
        }
      ]
    },
    {
      "cell_type": "code",
      "source": [
        "fig, ax = plt.subplots()\n",
        "x_axis = range(0, epochs)\n",
        "\n",
        "ax.plot(x_axis, evals_result['eval']['rmse'], label='Validation')\n",
        "ax.plot(x_axis, evals_result['train']['rmse'], label='Train')\n",
        "ax.legend()\n",
        "plt.ylabel('RMSE')\n",
        "\n",
        "plt.title('XGBoost RMSE')\n",
        "\n",
        "plt.show()"
      ],
      "metadata": {
        "colab": {
          "base_uri": "https://localhost:8080/",
          "height": 452
        },
        "id": "_pKyUpaPj1nO",
        "outputId": "2fb6d0a6-e683-4951-94bc-9ca18376c770"
      },
      "execution_count": 153,
      "outputs": [
        {
          "output_type": "display_data",
          "data": {
            "text/plain": [
              "<Figure size 640x480 with 1 Axes>"
            ],
            "image/png": "[encoded data removed]"
          },
          "metadata": {}
        }
      ]
    },
    {
      "cell_type": "markdown",
      "source": [
        "# Comparing Models"
      ],
      "metadata": {
        "id": "DIWv3LdRIHFc"
      }
    },
    {
      "cell_type": "code",
      "source": [
        "from sklearn.metrics import r2_score, mean_absolute_error, mean_squared_error, make_scorer"
      ],
      "metadata": {
        "id": "crGadBppIBAq"
      },
      "execution_count": 154,
      "outputs": []
    },
    {
      "cell_type": "code",
      "source": [
        "model_names = ['Lasso', 'KNeighborsRegressor', 'SVR', 'Decision Tree Regressor', 'XGBoost Regressor']\n",
        "models = [Lasso(alpha=0.001),\n",
        "          KNeighborsRegressor(n_neighbors=3),\n",
        "          SVR(kernel='rbf',C=10000,epsilon=0.1),\n",
        "          DecisionTreeRegressor(\n",
        "          min_samples_split=10,\n",
        "          max_features=\"auto\",\n",
        "          random_state=2,\n",
        "          max_depth=9),\n",
        "          xgb.XGBRegressor(objective='reg:squarederror')\n",
        "          ]\n",
        "\n",
        "metrics = ['R2 Score', 'MAE']\n",
        "\n",
        "scores = []\n",
        "mae_scores = []\n",
        "accuracy_scores = []\n",
        "\n",
        "for model in models:\n",
        "    pipe = Pipeline([('step1',ohe),('step2',model)])\n",
        "    pipe.fit(X_train,y_train)\n",
        "    y_pred = pipe.predict(X_test)\n",
        "\n",
        "    r2 = r2_score(y_test, y_pred)\n",
        "    mae = mean_absolute_error(y_test, y_pred)\n",
        "    errors = abs(y_pred - y_test)\n",
        "    mape = 100 * (errors / y_test)\n",
        "    acc = 100 - np.mean(mape)\n",
        "\n",
        "    scores.append(r2)\n",
        "    mae_scores.append(mae)\n",
        "    accuracy_scores.append(acc)\n",
        "\n",
        "\n",
        "results = {'Model': model_names, 'R2 Score': scores, 'MAE': mae_scores, 'Accuracy': accuracy_scores}\n",
        "\n",
        "results_df = pd.DataFrame(results)\n",
        "results_df"
      ],
      "metadata": {
        "colab": {
          "base_uri": "https://localhost:8080/",
          "height": 206
        },
        "id": "ajk7AqSeEw71",
        "outputId": "313e3fcd-a3ed-4ab2-f498-a0686469be96"
      },
      "execution_count": 156,
      "outputs": [
        {
          "output_type": "execute_result",
          "data": {
            "text/plain": [
              "                     Model  R2 Score       MAE   Accuracy\n",
              "0                    Lasso  0.442790  0.398443  78.897655\n",
              "1      KNeighborsRegressor  0.457960  0.347008  77.862741\n",
              "2                      SVR  0.029215  0.408848  61.847030\n",
              "3  Decision Tree Regressor  0.369305  0.374403  81.333518\n",
              "4        XGBoost Regressor  0.371809  0.324727  73.245266"
            ],
            "text/html": [
              "\n",
              "  <div id=\"df-32316907-1c50-4f45-9b4a-77c3d823e0c3\">\n",
              "    <div class=\"colab-df-container\">\n",
              "      <div>\n",
              "<style scoped>\n",
              "    .dataframe tbody tr th:only-of-type {\n",
              "        vertical-align: middle;\n",
              "    }\n",
              "\n",
              "    .dataframe tbody tr th {\n",
              "        vertical-align: top;\n",
              "    }\n",
              "\n",
              "    .dataframe thead th {\n",
              "        text-align: right;\n",
              "    }\n",
              "</style>\n",
              "<table border=\"1\" class=\"dataframe\">\n",
              "  <thead>\n",
              "    <tr style=\"text-align: right;\">\n",
              "      <th></th>\n",
              "      <th>Model</th>\n",
              "      <th>R2 Score</th>\n",
              "      <th>MAE</th>\n",
              "      <th>Accuracy</th>\n",
              "    </tr>\n",
              "  </thead>\n",
              "  <tbody>\n",
              "    <tr>\n",
              "      <th>0</th>\n",
              "      <td>Lasso</td>\n",
              "      <td>0.442790</td>\n",
              "      <td>0.398443</td>\n",
              "      <td>78.897655</td>\n",
              "    </tr>\n",
              "    <tr>\n",
              "      <th>1</th>\n",
              "      <td>KNeighborsRegressor</td>\n",
              "      <td>0.457960</td>\n",
              "      <td>0.347008</td>\n",
              "      <td>77.862741</td>\n",
              "    </tr>\n",
              "    <tr>\n",
              "      <th>2</th>\n",
              "      <td>SVR</td>\n",
              "      <td>0.029215</td>\n",
              "      <td>0.408848</td>\n",
              "      <td>61.847030</td>\n",
              "    </tr>\n",
              "    <tr>\n",
              "      <th>3</th>\n",
              "      <td>Decision Tree Regressor</td>\n",
              "      <td>0.369305</td>\n",
              "      <td>0.374403</td>\n",
              "      <td>81.333518</td>\n",
              "    </tr>\n",
              "    <tr>\n",
              "      <th>4</th>\n",
              "      <td>XGBoost Regressor</td>\n",
              "      <td>0.371809</td>\n",
              "      <td>0.324727</td>\n",
              "      <td>73.245266</td>\n",
              "    </tr>\n",
              "  </tbody>\n",
              "</table>\n",
              "</div>\n",
              "      <button class=\"colab-df-convert\" onclick=\"convertToInteractive('df-32316907-1c50-4f45-9b4a-77c3d823e0c3')\"\n",
              "              title=\"Convert this dataframe to an interactive table.\"\n",
              "              style=\"display:none;\">\n",
              "        \n",
              "  <svg xmlns=\"http://www.w3.org/2000/svg\" height=\"24px\"viewBox=\"0 0 24 24\"\n",
              "       width=\"24px\">\n",
              "    <path d=\"M0 0h24v24H0V0z\" fill=\"none\"/>\n",
              "    <path d=\"M18.56 5.44l.94 2.06.94-2.06 2.06-.94-2.06-.94-.94-2.06-.94 2.06-2.06.94zm-11 1L8.5 8.5l.94-2.06 2.06-.94-2.06-.94L8.5 2.5l-.94 2.06-2.06.94zm10 10l.94 2.06.94-2.06 2.06-.94-2.06-.94-.94-2.06-.94 2.06-2.06.94z\"/><path d=\"M17.41 7.96l-1.37-1.37c-.4-.4-.92-.59-1.43-.59-.52 0-1.04.2-1.43.59L10.3 9.45l-7.72 7.72c-.78.78-.78 2.05 0 2.83L4 21.41c.39.39.9.59 1.41.59.51 0 1.02-.2 1.41-.59l7.78-7.78 2.81-2.81c.8-.78.8-2.07 0-2.86zM5.41 20L4 18.59l7.72-7.72 1.47 1.35L5.41 20z\"/>\n",
              "  </svg>\n",
              "      </button>\n",
              "      \n",
              "  <style>\n",
              "    .colab-df-container {\n",
              "      display:flex;\n",
              "      flex-wrap:wrap;\n",
              "      gap: 12px;\n",
              "    }\n",
              "\n",
              "    .colab-df-convert {\n",
              "      background-color: #E8F0FE;\n",
              "      border: none;\n",
              "      border-radius: 50%;\n",
              "      cursor: pointer;\n",
              "      display: none;\n",
              "      fill: #1967D2;\n",
              "      height: 32px;\n",
              "      padding: 0 0 0 0;\n",
              "      width: 32px;\n",
              "    }\n",
              "\n",
              "    .colab-df-convert:hover {\n",
              "      background-color: #E2EBFA;\n",
              "      box-shadow: 0px 1px 2px rgba(60, 64, 67, 0.3), 0px 1px 3px 1px rgba(60, 64, 67, 0.15);\n",
              "      fill: #174EA6;\n",
              "    }\n",
              "\n",
              "    [theme=dark] .colab-df-convert {\n",
              "      background-color: #3B4455;\n",
              "      fill: #D2E3FC;\n",
              "    }\n",
              "\n",
              "    [theme=dark] .colab-df-convert:hover {\n",
              "      background-color: #434B5C;\n",
              "      box-shadow: 0px 1px 3px 1px rgba(0, 0, 0, 0.15);\n",
              "      filter: drop-shadow(0px 1px 2px rgba(0, 0, 0, 0.3));\n",
              "      fill: #FFFFFF;\n",
              "    }\n",
              "  </style>\n",
              "\n",
              "      <script>\n",
              "        const buttonEl =\n",
              "          document.querySelector('#df-32316907-1c50-4f45-9b4a-77c3d823e0c3 button.colab-df-convert');\n",
              "        buttonEl.style.display =\n",
              "          google.colab.kernel.accessAllowed ? 'block' : 'none';\n",
              "\n",
              "        async function convertToInteractive(key) {\n",
              "          const element = document.querySelector('#df-32316907-1c50-4f45-9b4a-77c3d823e0c3');\n",
              "          const dataTable =\n",
              "            await google.colab.kernel.invokeFunction('convertToInteractive',\n",
              "                                                     [key], {});\n",
              "          if (!dataTable) return;\n",
              "\n",
              "          const docLinkHtml = 'Like what you see? Visit the ' +\n",
              "            '<a target=\"_blank\" href=https://colab.research.google.com/notebooks/data_table.ipynb>data table notebook</a>'\n",
              "            + ' to learn more about interactive tables.';\n",
              "          element.innerHTML = '';\n",
              "          dataTable['output_type'] = 'display_data';\n",
              "          await google.colab.output.renderOutput(dataTable, element);\n",
              "          const docLink = document.createElement('div');\n",
              "          docLink.innerHTML = docLinkHtml;\n",
              "          element.appendChild(docLink);\n",
              "        }\n",
              "      </script>\n",
              "    </div>\n",
              "  </div>\n",
              "  "
            ]
          },
          "metadata": {},
          "execution_count": 156
        }
      ]
    },
    {
      "cell_type": "markdown",
      "source": [
        "# K-fold Visualization"
      ],
      "metadata": {
        "id": "CAkPNjNzM0nW"
      }
    },
    {
      "cell_type": "code",
      "source": [
        "from sklearn.model_selection import cross_val_score"
      ],
      "metadata": {
        "id": "d8lNgasJNDbp"
      },
      "execution_count": 157,
      "outputs": []
    },
    {
      "cell_type": "markdown",
      "source": [
        "## XGBoost Regressor"
      ],
      "metadata": {
        "id": "1y_xuRbzM5S7"
      }
    },
    {
      "cell_type": "code",
      "source": [
        "k_range = list(range(2, 12))\n",
        "k_scores = []\n",
        "for k in k_range:\n",
        "    ohe = ColumnTransformer(transformers=[\n",
        "        ('col_tnf',OneHotEncoder(sparse=False,drop='first'),[1,3,6,10,9])\n",
        "    ],remainder='passthrough')\n",
        "\n",
        "\n",
        "    model = xgb.XGBRegressor(objective='reg:squarederror')\n",
        "\n",
        "    pipe = Pipeline([\n",
        "        ('step1',ohe),\n",
        "        ('step2',model)\n",
        "    ])\n",
        "\n",
        "    scores = cross_val_score(pipe, X, y, cv = k)\n",
        "    k_scores.append(scores.mean())\n",
        "print(k_scores)"
      ],
      "metadata": {
        "colab": {
          "base_uri": "https://localhost:8080/"
        },
        "id": "WlX-Aeq3NGVA",
        "outputId": "03135335-4686-4afb-ebdf-5903c7363cdf"
      },
      "execution_count": 159,
      "outputs": [
        {
          "output_type": "stream",
          "name": "stdout",
          "text": [
            "[nan, 0.02899419621829809, 0.39723953714241106, nan, 0.37857641257203717, 0.4040012818936625, 0.3782300448347342, 0.4013234298871622, 0.42054209690677197, 0.4499232613997497]\n"
          ]
        }
      ]
    },
    {
      "cell_type": "code",
      "source": [
        "plt.plot(k_range, k_scores)\n",
        "plt.xlabel('Value of K for XGBoost Regressor')\n",
        "plt.ylabel('Cross-Validated-Accuracy')"
      ],
      "metadata": {
        "colab": {
          "base_uri": "https://localhost:8080/",
          "height": 467
        },
        "id": "xj59529fNM-Z",
        "outputId": "98d4f649-33e3-4f21-f7a8-23bc0cbf720d"
      },
      "execution_count": 160,
      "outputs": [
        {
          "output_type": "execute_result",
          "data": {
            "text/plain": [
              "Text(0, 0.5, 'Cross-Validated-Accuracy')"
            ]
          },
          "metadata": {},
          "execution_count": 160
        },
        {
          "output_type": "display_data",
          "data": {
            "text/plain": [
              "<Figure size 640x480 with 1 Axes>"
            ],
            "image/png": "[encoded data removed]"
          },
          "metadata": {}
        }
      ]
    },
    {
      "cell_type": "markdown",
      "source": [
        "## Desicion Tree Regressor"
      ],
      "metadata": {
        "id": "UWtz3KLTNYrc"
      }
    },
    {
      "cell_type": "code",
      "source": [
        "k_range = list(range(2, 12))\n",
        "k_scores = []\n",
        "for k in k_range:\n",
        "    ohe = ColumnTransformer(transformers=[\n",
        "        ('col_tnf',OneHotEncoder(sparse=False,drop='first'),[1,3,6,10,9])\n",
        "    ],remainder='passthrough')\n",
        "\n",
        "\n",
        "    model = DecisionTreeRegressor(\n",
        "    min_samples_split=10,\n",
        "    max_features=\"auto\",\n",
        "    random_state=2,\n",
        "    max_depth=9\n",
        "    )\n",
        "\n",
        "    pipe = Pipeline([\n",
        "        ('step1',ohe),\n",
        "        ('step2',model)\n",
        "    ])\n",
        "\n",
        "    scores = cross_val_score(pipe, X, y, cv = k)\n",
        "    k_scores.append(scores.mean())\n",
        "print(k_scores)"
      ],
      "metadata": {
        "colab": {
          "base_uri": "https://localhost:8080/"
        },
        "id": "qirpAbFMNcPS",
        "outputId": "798abcc8-c348-4c48-e906-566e35e956ef"
      },
      "execution_count": 161,
      "outputs": [
        {
          "output_type": "stream",
          "name": "stdout",
          "text": [
            "[nan, 0.028496314071572493, 0.3029206084017533, nan, 0.26587709738686766, 0.33169071735462213, 0.3155112335316351, 0.3467812448657799, 0.331141946970838, 0.38237134109511656]\n"
          ]
        }
      ]
    },
    {
      "cell_type": "code",
      "source": [
        "plt.plot(k_range, k_scores)\n",
        "plt.xlabel('Value of K for Desicion Tree Regressor')\n",
        "plt.ylabel('Cross-Validated-Accuracy')"
      ],
      "metadata": {
        "colab": {
          "base_uri": "https://localhost:8080/",
          "height": 473
        },
        "id": "2aqpjIMlNgmf",
        "outputId": "65eeacc1-c8f5-495f-d3c3-dcf7f24bd303"
      },
      "execution_count": 162,
      "outputs": [
        {
          "output_type": "execute_result",
          "data": {
            "text/plain": [
              "Text(0, 0.5, 'Cross-Validated-Accuracy')"
            ]
          },
          "metadata": {},
          "execution_count": 162
        },
        {
          "output_type": "display_data",
          "data": {
            "text/plain": [
              "<Figure size 640x480 with 1 Axes>"
            ],
            "image/png": "[encoded data removed]"
          },
          "metadata": {}
        }
      ]
    }
  ]
}